{
  "nbformat": 4,
  "nbformat_minor": 0,
  "metadata": {
    "colab": {
      "name": "Ejercicio en clase 23-nov-21.ipynb",
      "provenance": [],
      "authorship_tag": "ABX9TyOeWzza0QljDqmgauPUzAbU",
      "include_colab_link": true
    },
    "kernelspec": {
      "name": "python3",
      "display_name": "Python 3"
    },
    "language_info": {
      "name": "python"
    }
  },
  "cells": [
    {
      "cell_type": "markdown",
      "metadata": {
        "id": "view-in-github",
        "colab_type": "text"
      },
      "source": [
        "<a href=\"https://colab.research.google.com/github/CarlosDaniel1157/CyP/blob/main/Ejercicio_en_clase_23_nov_21.ipynb\" target=\"_parent\"><img src=\"https://colab.research.google.com/assets/colab-badge.svg\" alt=\"Open In Colab\"/></a>"
      ]
    },
    {
      "cell_type": "markdown",
      "metadata": {
        "id": "EQMesUidNgiS"
      },
      "source": [
        "Ejercicio en clase 23-nov-21"
      ]
    },
    {
      "cell_type": "code",
      "metadata": {
        "colab": {
          "base_uri": "https://localhost:8080/"
        },
        "id": "uZupdzGdNcwT",
        "outputId": "ca56e2a2-9b2d-4331-ca5e-152ae37ed10d"
      },
      "source": [
        "# Ejemplo 2.12\n",
        "A = int(input(\"Ingrese un valor entero: \"))\n",
        "B = int(input(\"Ingrese un valor entero: \"))\n",
        "C = int(input(\"Ingrese un valor entero: \"))\n",
        "\n",
        "if A>B:\n",
        "    if A>C:\n",
        "        if B>C:\n",
        "            print(f\"{A} {B} {C}\")\n",
        "        else:\n",
        "            print(f\"{A} {C} {B}\")\n",
        "    else:\n",
        "        print(f\"{C} {A} {B}\")\n",
        "elif B>C:\n",
        "    if A>C:\n",
        "        print(f\"{B} {A} {C}\")\n",
        "    else:\n",
        "        print(f\"{B} {C} {A}\")\n",
        "else:\n",
        "    print(f\"{C} {B} {A}\")\n",
        "print(\"--FIN DEL PROGRAMA--\")"
      ],
      "execution_count": 1,
      "outputs": [
        {
          "output_type": "stream",
          "name": "stdout",
          "text": [
            "Ingrese un valor entero: 123\n",
            "Ingrese un valor entero: 131\n",
            "Ingrese un valor entero: 3\n",
            "131 123 3\n",
            "--FIN DEL PROGRAMA--\n"
          ]
        }
      ]
    }
  ]
}