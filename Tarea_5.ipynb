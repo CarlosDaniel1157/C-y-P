{
  "nbformat": 4,
  "nbformat_minor": 0,
  "metadata": {
    "colab": {
      "name": "Tarea 5.ipynb",
      "provenance": [],
      "authorship_tag": "ABX9TyNuRriPDd0xPYNDbx4svoRL",
      "include_colab_link": true
    },
    "kernelspec": {
      "name": "python3",
      "display_name": "Python 3"
    },
    "language_info": {
      "name": "python"
    }
  },
  "cells": [
    {
      "cell_type": "markdown",
      "metadata": {
        "id": "view-in-github",
        "colab_type": "text"
      },
      "source": [
        "<a href=\"https://colab.research.google.com/github/CarlosDaniel1157/CyP/blob/main/Tarea_5.ipynb\" target=\"_parent\"><img src=\"https://colab.research.google.com/assets/colab-badge.svg\" alt=\"Open In Colab\"/></a>"
      ]
    },
    {
      "cell_type": "markdown",
      "metadata": {
        "id": "Y3GSSTweMFOV"
      },
      "source": [
        "1. Hacer un programa que\n",
        "pida dos números enteros y que imprima en pantalla lo siguiente:\n",
        "\n",
        "\n",
        "¿Cuál de ellos es el número mayor?\n",
        "¿Cuál de ellos es el número menor?\n",
        "\n",
        "o en su defecto\n",
        "¿Imprimir que los valores son iguales?"
      ]
    },
    {
      "cell_type": "code",
      "metadata": {
        "colab": {
          "base_uri": "https://localhost:8080/"
        },
        "id": "hVjJmIOLL2uw",
        "outputId": "125f1864-94d9-4232-dfcf-2a4f7253fd28"
      },
      "source": [
        "num1 = int(input(\"Ingrese el primer número: \"))\n",
        "num2 = int(input(\"Ingrese el segundo número: \"))\n",
        "if num1 > num2:\n",
        "    print(f\"{num1} es mayor que {num2}\")\n",
        "elif num1 < num2:\n",
        "    print(f\"{num2} es mayor que {num1}\")\n",
        "elif num1 == num2:\n",
        "    print(f\"{num1} = {num2}\")"
      ],
      "execution_count": 9,
      "outputs": [
        {
          "output_type": "stream",
          "name": "stdout",
          "text": [
            "Ingrese el primer número: 1\n",
            "Ingrese el segundo número: 1\n",
            "1 = 1\n"
          ]
        }
      ]
    },
    {
      "cell_type": "markdown",
      "metadata": {
        "id": "TlWqJ-8rOyfG"
      },
      "source": [
        "2. Hacer un programa que solicite 3 números enteros diferentes entre sí y que imprima cuál de los 3 es el mayor"
      ]
    },
    {
      "cell_type": "code",
      "metadata": {
        "colab": {
          "base_uri": "https://localhost:8080/"
        },
        "id": "02GkVPBOOzsG",
        "outputId": "2e8808f9-376d-43f7-cb54-32db71822a1c"
      },
      "source": [
        "print(\"Ingrese 3 numeros diferentes\")\n",
        "num1 = int(input(\"Ingrese el primer número: \"))\n",
        "num2 = int(input(\"Ingrese el segundo número: \"))\n",
        "num3 = int(input(\"Ingrese el tercer número: \"))\n",
        "if num1 != num2 and num2 != num3 and num1 != num3:\n",
        "    if num1 > num2 and num2 > num3:\n",
        "        print(\"El número mayor es: \",num1)\n",
        "    elif num2 > num3 and num3 > num1:\n",
        "        print(\"El número mayor es: \",num2)\n",
        "    elif num3 > num1 and num1 > num2:\n",
        "        print(\"El número mayor es: \",num3)\n",
        "    elif num2 > num1 and num1 > num3:\n",
        "        print(\"El número mayor es: \",num2)\n",
        "    elif num3 > num2 and num2 > num1:\n",
        "        print(\"El número mayor es: \",num3)\n",
        "    elif num1 > num3 and num3 > num2:\n",
        "        print(\"El número mayor es: \",num1)\n",
        "    elif num3 > num2 and num2 > num1:\n",
        "        print(\"El número mayor es: \",num3)\n",
        "    elif num1 > num3 and num3 > num2:\n",
        "        print(\"El número mayor es: \",num1)\n",
        "else:\n",
        "    print(\"Existen números repetidos\")\n",
        "print(\"--FIN DEL PROGRAMA--\")"
      ],
      "execution_count": 20,
      "outputs": [
        {
          "output_type": "stream",
          "name": "stdout",
          "text": [
            "Ingrese 3 numeros diferentes\n",
            "Ingrese el primer número: 23\n",
            "Ingrese el segundo número: 24\n",
            "Ingrese el tercer número: 42\n",
            "El número mayor es:  42\n",
            "--FIN DEL PROGRAMA--\n"
          ]
        }
      ]
    },
    {
      "cell_type": "markdown",
      "metadata": {
        "id": "rETmwZ9oa5NM"
      },
      "source": [
        "3. Hacer un programa que solicite 3 números enteros diferentes entre sí y que imprima cuál de los 3 es el menor"
      ]
    },
    {
      "cell_type": "code",
      "metadata": {
        "colab": {
          "base_uri": "https://localhost:8080/"
        },
        "id": "7m_5HBMwa6kw",
        "outputId": "af547e21-bb57-4192-8f80-39b77f58e50b"
      },
      "source": [
        "print(\"Ingrese 3 numeros diferentes\")\n",
        "num1 = int(input(\"Ingrese el primer número: \"))\n",
        "num2 = int(input(\"Ingrese el segundo número: \"))\n",
        "num3 = int(input(\"Ingrese el tercer número: \"))\n",
        "if num1 != num2 and num2 != num3 and num1 != num3:\n",
        "    if num1 > num2 and num2 > num3:\n",
        "        print(\"El número mayor es: \",num3)\n",
        "    elif num2 > num3 and num3 > num1:\n",
        "        print(\"El número mayor es: \",num1)\n",
        "    elif num3 > num1 and num1 > num2:\n",
        "        print(\"El número mayor es: \",num2)\n",
        "    elif num2 > num1 and num1 > num3:\n",
        "        print(\"El número mayor es: \",num3)\n",
        "    elif num3 > num2 and num2 > num1:\n",
        "        print(\"El número mayor es: \",num1)\n",
        "    elif num1 > num3 and num3 > num2:\n",
        "        print(\"El número mayor es: \",num2)\n",
        "    elif num3 > num2 and num2 > num1:\n",
        "        print(\"El número mayor es: \",num1)\n",
        "    elif num1 > num3 and num3 > num2:\n",
        "        print(\"El número mayor es: \",num2)\n",
        "else:\n",
        "    print(\"Existen números repetidos\")\n",
        "print(\"--FIN DEL PROGRAMA--\")"
      ],
      "execution_count": 21,
      "outputs": [
        {
          "output_type": "stream",
          "name": "stdout",
          "text": [
            "Ingrese 3 numeros diferentes\n",
            "Ingrese el primer número: 31\n",
            "Ingrese el segundo número: 24124\n",
            "Ingrese el tercer número: 214\n",
            "El número mayor es:  31\n",
            "--FIN DEL PROGRAMA--\n"
          ]
        }
      ]
    },
    {
      "cell_type": "markdown",
      "metadata": {
        "id": "4kYlIxrAbM3A"
      },
      "source": [
        " 4. Hacer un programa que solicite 4 números enteros diferentes entre sí y que imprima a la salida cuál de ellos es el menor y cuál de ellos es el mayor\n"
      ]
    },
    {
      "cell_type": "code",
      "metadata": {
        "colab": {
          "base_uri": "https://localhost:8080/"
        },
        "id": "b700vfs1g72o",
        "outputId": "6a949595-b054-4067-b2ed-f7778da88bb9"
      },
      "source": [
        "print(\"Ingrese 4 numeros diferentes\")\n",
        "num1 = int(input(\"Ingrese el primer número: \"))\n",
        "num2 = int(input(\"Ingrese el segundo número: \"))\n",
        "num3 = int(input(\"Ingrese el tercer número: \"))\n",
        "num4 = int(input(\"Ingrese el cuarto número: \"))\n",
        "if num1 != num2 and num2 != num3 and num3 != num4 and num4 != num1 and num1 != num3 and  num2 != num4:\n",
        "    if num1 > num2 and num2 > num3 and num3 > num4:\n",
        "        print(f\"El número mayor es: {num1} y el menor es: {num4}\")\n",
        "    elif num4 > num1 and num1 > num2 and num2 > num3:\n",
        "        print(f\"El número mayor es: {num4} y el menor es: {num3}\")\n",
        "    elif num3 > num4 and num4 > num1 and num1 > num2:\n",
        "        print(f\"El número mayor es: {num3} y el menor es: {num2}\")\n",
        "    elif num2 > num3 and num3 > num4 and num4 > num1:\n",
        "        print(f\"El número mayor es: {num2} y el menor es: {num1}\")\n",
        "    elif num1 > num4 and num4 > num3 and num3 > num2:\n",
        "        print(f\"El número mayor es: {num1} y el menor es: {num2}\")\n",
        "    elif num2 > num1 and num1 > num4 and num4 > num3:\n",
        "        print(f\"El número mayor es: {num2} y el menor es: {num3}\")\n",
        "    elif num3 > num2 and num2 > num1 and num1 > num4:\n",
        "        print(f\"El número mayor es: {num4} y el menor es: {num4}\")\n",
        "    elif num4 > num3 and num3 > num2 and num2 > num1:\n",
        "        print(f\"El número mayor es: {num3} y el menor es: {num1}\")\n",
        "    elif num2 > num4 and num4 > num4 and num4 > num1:\n",
        "        print(f\"El número mayor es: {num4} y el menor es: {num1}\")\n",
        "    elif num1 > num2 and num2 > num4 and num4 > num3:\n",
        "        print(f\"El número mayor es: {num4} y el menor es: {num3}\")\n",
        "    elif num3 > num1 and num1 > num2 and num2 > num4:\n",
        "        print(f\"El número mayor es: {num4} y el menor es: {num4}\")\n",
        "    elif num4 > num3 and num3 > num1 and num1 > num2:\n",
        "        print(f\"El número mayor es: {num4} y el menor es: {num2}\")\n",
        "    elif num3 > num4 and num4 > num2 and num2 > num1:\n",
        "        print(f\"El número mayor es: {num4} y el menor es: {num1}\")\n",
        "    elif num1 > num3 and num3 > num4 and num4 > num2:\n",
        "        print(f\"El número mayor es: {num4} y el menor es: {num2}\")\n",
        "    elif num2 > num1 and num1 > num3 and num3 > num4:\n",
        "        print(f\"El número mayor es: {num4} y el menor es: {num4}\")\n",
        "    elif num4 > num2 and num2 > num1 and num1 > num3:\n",
        "        print(f\"El número mayor es: {num4} y el menor es: {num3}\")\n",
        "    elif num1 > num4 and num4 > num2 and num2 > num3:\n",
        "        print(f\"El número mayor es: {num4} y el menor es: {num3}\")\n",
        "    elif num3 > num1 and num1 > num4 and num4 > num2:\n",
        "        print(f\"El número mayor es: {num4} y el menor es: {num2}\")\n",
        "    elif num2 > num3 and num3 > num1 and num1 > num4:\n",
        "        print(f\"El número mayor es: {num4} y el menor es: {num4}\")\n",
        "    elif num4 > num2 and num2 > num3 and num3 > num1:\n",
        "        print(f\"El número mayor es: {num4} y el menor es: {num1}\")\n",
        "    elif num1 > num3 and num3 > num2 and num2 > num4:\n",
        "        print(f\"El número mayor es: {num4} y el menor es: {num4}\")\n",
        "    elif num2 > num4 and num4 > num1 and num1 > num3:\n",
        "        print(f\"El número mayor es: {num4} y el menor es: {num3}\")\n",
        "    elif num3 > num2 and num2 > num4 and num4 > num1:\n",
        "        print(f\"El número mayor es: {num4} y el menor es: {num1}\")\n",
        "    elif num4 > num1 and num1 > num3 and num3 > num2:\n",
        "        print(f\"El número mayor es: {num4} y el menor es: {num2}\")\n",
        "else:\n",
        "    print(\"Existen números repetidos\")\n",
        "print(\"--FIN DEL PROGRAMA--\")"
      ],
      "execution_count": 24,
      "outputs": [
        {
          "output_type": "stream",
          "name": "stdout",
          "text": [
            "Ingrese 4 numeros diferentes\n",
            "Ingrese el primer número: 32442\n",
            "Ingrese el segundo número: 22432\n",
            "Ingrese el tercer número: 13223\n",
            "Ingrese el cuarto número: 2\n",
            "El número mayor es: 32442 y el menor es: 2\n",
            "--FIN DEL PROGRAMA--\n"
          ]
        }
      ]
    },
    {
      "cell_type": "markdown",
      "metadata": {
        "id": "4DAEb3R3bIAp"
      },
      "source": [
        ""
      ]
    }
  ]
}