{
  "nbformat": 4,
  "nbformat_minor": 0,
  "metadata": {
    "colab": {
      "name": "Fundamentos3_CyP_1157.ipynb",
      "provenance": [],
      "authorship_tag": "ABX9TyOvzyp53PJFiP3WfBGiyfJx",
      "include_colab_link": true
    },
    "kernelspec": {
      "name": "python3",
      "display_name": "Python 3"
    },
    "language_info": {
      "name": "python"
    }
  },
  "cells": [
    {
      "cell_type": "markdown",
      "metadata": {
        "id": "view-in-github",
        "colab_type": "text"
      },
      "source": [
        "<a href=\"https://colab.research.google.com/github/CarlosDaniel1157/CyP/blob/main/Fundamentos3_CyP_1157.ipynb\" target=\"_parent\"><img src=\"https://colab.research.google.com/assets/colab-badge.svg\" alt=\"Open In Colab\"/></a>"
      ]
    },
    {
      "cell_type": "markdown",
      "metadata": {
        "id": "gOsCN-NFFWt_"
      },
      "source": [
        "# 23 noviembre 2021"
      ]
    },
    {
      "cell_type": "markdown",
      "metadata": {
        "id": "fEJCaGHtFayt"
      },
      "source": [
        "Repetición:\n",
        "\n",
        "Este tipo de estructura nos permite automatizar la ejecución repetitiva de código mientas ciertas condiciones s cumplan, tenemos 3 variantes de esta estructura en todos los lenguajes de programación:\n",
        "\n",
        "- Desde...hasta (estructura for)\n",
        "- Haz mientras (structura While)\n",
        "- Haz y luego validaz mientras( estructura Do-While)\n",
        "\n",
        "# FOR con Python\n",
        "```\n",
        "for j in range (10):\n",
        "    print(f\"Hola { j }\")\n",
        "```\n",
        "\n",
        "# FOR con Leng C y/o Java\n",
        "```\n",
        "for( int j=0, j<10; j=j+1){\n",
        "    printf(\"Hola $i \\n, j \")\n",
        "}\n",
        "```\n",
        "En todos los lenguajes de programación existe un tipo especial de for, conocido como **for-each**\n",
        "\n",
        "### For-each en Python\n",
        "```\n",
        "for color in colores:\n",
        "    print(f\"Este es el color { color }\")\n",
        "```"
      ]
    },
    {
      "cell_type": "code",
      "metadata": {
        "colab": {
          "base_uri": "https://localhost:8080/"
        },
        "id": "4bfrxiTqFRVW",
        "outputId": "ec66e875-e07b-4884-a7b3-06a6fed679d8"
      },
      "source": [
        "# función range ()\n",
        "# range (<INICIO>, <STOP>, <INCREMENTO>)\n",
        "x = range(0,10,2)\n",
        "print(x)\n",
        "\n",
        "for j in range(10): # range(0,10) --> 0,1,2,3,4,5,6,7,8,9\n",
        "    print(\"hola\",j)\n",
        "print(\"------\")\n",
        "for j in range(0,10,2): # range(0,10) --> 0,2,4,6,8\n",
        "    print(\"hola\",j)\n",
        "print(\"------\")\n",
        "frutas = [\"Uva\", \"Aguacate\", \"Pera\", \"Manzana\", \"Sandia\"]\n",
        "print(frutas[0])\n",
        "print(frutas[1])\n",
        "print(frutas[2])\n",
        "print(frutas[3])\n",
        "print(frutas[4])\n",
        "print(\"---FRUTAS---\")\n",
        "for index in range(5):\n",
        "    print(frutas[index])"
      ],
      "execution_count": null,
      "outputs": [
        {
          "output_type": "stream",
          "name": "stdout",
          "text": [
            "range(0, 10, 2)\n",
            "hola 0\n",
            "hola 1\n",
            "hola 2\n",
            "hola 3\n",
            "hola 4\n",
            "hola 5\n",
            "hola 6\n",
            "hola 7\n",
            "hola 8\n",
            "hola 9\n",
            "------\n",
            "hola 0\n",
            "hola 2\n",
            "hola 4\n",
            "hola 6\n",
            "hola 8\n",
            "------\n",
            "Uva\n",
            "Aguacate\n",
            "Pera\n",
            "Manzana\n",
            "Sandia\n",
            "---FRUTAS---\n",
            "Uva\n",
            "Aguacate\n",
            "Pera\n",
            "Manzana\n",
            "Sandia\n"
          ]
        }
      ]
    },
    {
      "cell_type": "markdown",
      "metadata": {
        "id": "9xS1PfyLLT-g"
      },
      "source": [
        "### +++++\n",
        "### +++++\n",
        "### +++++\n",
        "### +++++\n",
        "### +++++"
      ]
    },
    {
      "cell_type": "code",
      "metadata": {
        "colab": {
          "base_uri": "https://localhost:8080/"
        },
        "id": "5VwSIF7FLe3O",
        "outputId": "711bcca3-bec3-4ca5-d878-494856095fe7"
      },
      "source": [
        "for c in range(5):\n",
        "    print(\"+++++\")"
      ],
      "execution_count": null,
      "outputs": [
        {
          "output_type": "stream",
          "name": "stdout",
          "text": [
            "+++++\n",
            "+++++\n",
            "+++++\n",
            "+++++\n",
            "+++++\n"
          ]
        }
      ]
    },
    {
      "cell_type": "markdown",
      "metadata": {
        "id": "PWykDdxzKnq-"
      },
      "source": [
        "# 25 noviembre 2021"
      ]
    },
    {
      "cell_type": "code",
      "metadata": {
        "colab": {
          "base_uri": "https://localhost:8080/"
        },
        "id": "otP1iBBTKr9E",
        "outputId": "ecf54aab-5b92-45d2-e15f-00f4c1dfe1ab"
      },
      "source": [
        "for x in range(1,20,1):\n",
        "    print(x)\n",
        "print(\"--FIN DEL PROGRAMA--\")\n",
        "\n",
        "for x in range(19,0,-1):\n",
        "    print(x)\n",
        "print(\"--FIN DEL PROGRAMA--\")"
      ],
      "execution_count": null,
      "outputs": [
        {
          "output_type": "stream",
          "name": "stdout",
          "text": [
            "1\n",
            "2\n",
            "3\n",
            "4\n",
            "5\n",
            "6\n",
            "7\n",
            "8\n",
            "9\n",
            "10\n",
            "11\n",
            "12\n",
            "13\n",
            "14\n",
            "15\n",
            "16\n",
            "17\n",
            "18\n",
            "19\n",
            "--FIN DEL PROGRAMA--\n",
            "19\n",
            "18\n",
            "17\n",
            "16\n",
            "15\n",
            "14\n",
            "13\n",
            "12\n",
            "11\n",
            "10\n",
            "9\n",
            "8\n",
            "7\n",
            "6\n",
            "5\n",
            "4\n",
            "3\n",
            "2\n",
            "1\n",
            "--FIN DEL PROGRAMA--\n"
          ]
        }
      ]
    },
    {
      "cell_type": "code",
      "metadata": {
        "colab": {
          "base_uri": "https://localhost:8080/"
        },
        "id": "p_G1_79FNuFt",
        "outputId": "8a6eb409-a266-4a22-d96c-1ea4c5869db0"
      },
      "source": [
        "#ejemplo 3.3\n",
        "CUECER = 0\n",
        "N = 0\n",
        "NUM = 0\n",
        "N = int(input(\"Un valor numerico mayor que 1: \"))\n",
        "for i in range(1,N+1,1):\n",
        "    N = int(input(\"Un valor numerico: \"))\n",
        "    if N == 0:\n",
        "        CUECER += 1\n",
        "print(\"CUECER = \",CUECER)"
      ],
      "execution_count": null,
      "outputs": [
        {
          "output_type": "stream",
          "name": "stdout",
          "text": [
            "Un valor numerico mayor que 1: 0\n",
            "CUECER =  0\n"
          ]
        }
      ]
    },
    {
      "cell_type": "code",
      "metadata": {
        "colab": {
          "base_uri": "https://localhost:8080/"
        },
        "id": "0_0HYXW3QsaJ",
        "outputId": "c03b6c15-cf5b-445c-8e40-333786985fea"
      },
      "source": [
        "# Tabla del 7\n",
        "n=7\n",
        "for y in range(1,11,1):\n",
        "    x = n*y\n",
        "    print(f\"{n} x {y} = {x}\")"
      ],
      "execution_count": null,
      "outputs": [
        {
          "output_type": "stream",
          "name": "stdout",
          "text": [
            "7 x 1 = 7\n",
            "7 x 2 = 14\n",
            "7 x 3 = 21\n",
            "7 x 4 = 28\n",
            "7 x 5 = 35\n",
            "7 x 6 = 42\n",
            "7 x 7 = 49\n",
            "7 x 8 = 56\n",
            "7 x 9 = 63\n",
            "7 x 10 = 70\n"
          ]
        }
      ]
    },
    {
      "cell_type": "code",
      "metadata": {
        "colab": {
          "base_uri": "https://localhost:8080/"
        },
        "id": "eewXwdUjR33w",
        "outputId": "98cc04d4-b035-4ed9-aa59-7ea40bb55916"
      },
      "source": [
        "x = int(input(\"Dame un numero entre 1 y 5: \"))\n",
        "if x>=1 and x<=5:\n",
        "    y = int(input(f\"Dame un numero entre {x} y 10: \"))\n",
        "    if y > x and y<=10:\n",
        "        for a in range(x,y+1,1):\n",
        "            for j in range(1,11):\n",
        "                print(f\"{a} x {j} = \", a*j)\n",
        "            print(\"------\")\n",
        "    else:\n",
        "        print(f\"Valor fuera del rango {x} y 10\")\n",
        "else:\n",
        "    print(\"Valor fuera del rango  1 y 5\")\n"
      ],
      "execution_count": null,
      "outputs": [
        {
          "output_type": "stream",
          "name": "stdout",
          "text": [
            "Dame un numero entre 1 y 5: 5\n",
            "Dame un numero entre 5 y 10: 6\n",
            "5 x 1 =  5\n",
            "5 x 2 =  10\n",
            "5 x 3 =  15\n",
            "5 x 4 =  20\n",
            "5 x 5 =  25\n",
            "5 x 6 =  30\n",
            "5 x 7 =  35\n",
            "5 x 8 =  40\n",
            "5 x 9 =  45\n",
            "5 x 10 =  50\n",
            "------\n",
            "6 x 1 =  6\n",
            "6 x 2 =  12\n",
            "6 x 3 =  18\n",
            "6 x 4 =  24\n",
            "6 x 5 =  30\n",
            "6 x 6 =  36\n",
            "6 x 7 =  42\n",
            "6 x 8 =  48\n",
            "6 x 9 =  54\n",
            "6 x 10 =  60\n",
            "------\n"
          ]
        }
      ]
    },
    {
      "cell_type": "code",
      "metadata": {
        "colab": {
          "base_uri": "https://localhost:8080/"
        },
        "id": "Ce_YH9hPWqPO",
        "outputId": "da37d2e8-96e5-4b98-d651-1cd2d362a11d"
      },
      "source": [
        "# Generadores de lista\n",
        "numeros = [0,0,0,0,0]\n",
        "print(numeros)\n",
        "numeros = [0 for x in range(5)]\n",
        "print(numeros)\n",
        "# empleando la variable de control x para el valor inicial\n",
        "numeros = [x for x in range(5)]\n",
        "print(numeros)\n",
        "# 10, 20 , 30 , 40 , 50... 100\n",
        "numeros = [x for x in range(10,101,10)]\n",
        "print(numeros)\n"
      ],
      "execution_count": null,
      "outputs": [
        {
          "output_type": "stream",
          "name": "stdout",
          "text": [
            "[0, 0, 0, 0, 0]\n",
            "[0, 0, 0, 0, 0]\n",
            "[0, 1, 2, 3, 4]\n",
            "[10, 20, 30, 40, 50, 60, 70, 80, 90, 100]\n"
          ]
        }
      ]
    },
    {
      "cell_type": "code",
      "metadata": {
        "colab": {
          "base_uri": "https://localhost:8080/"
        },
        "id": "ZHS0sYKvYPw5",
        "outputId": "1a8a41d6-7043-447b-92b7-7f4b2ef33769"
      },
      "source": [
        "# ejercicio: Calcular promedio de edades\n",
        "suma = 0\n",
        "edades = [x for x in range(5)]\n",
        "for x in range(5):\n",
        "    edades[x]=int(input(\"Ingrese la edad: \"))\n",
        "    suma = suma + edades[x]\n",
        "print(\"Promedio: \",suma/5)\n"
      ],
      "execution_count": null,
      "outputs": [
        {
          "output_type": "stream",
          "name": "stdout",
          "text": [
            "Ingrese la edad: 13\n",
            "Ingrese la edad: 13\n",
            "Ingrese la edad: 12\n",
            "Ingrese la edad: 324\n",
            "Ingrese la edad: 233\n",
            "Promedio:  119.0\n"
          ]
        }
      ]
    },
    {
      "cell_type": "code",
      "metadata": {
        "colab": {
          "base_uri": "https://localhost:8080/"
        },
        "id": "DVdUrUo3cam6",
        "outputId": "a0a56de4-a6a7-45b4-9d24-5b855277f5dd"
      },
      "source": [
        "import random\n",
        "print(random.random())\n",
        "print(random.uniform(5,11))\n",
        "val = round(random.uniform(5,11) , 2)\n",
        "print(val)\n",
        "\n",
        "valores = [round(random.uniform(5,11),2) for x in range(20)]\n",
        "print(valores)"
      ],
      "execution_count": null,
      "outputs": [
        {
          "output_type": "stream",
          "name": "stdout",
          "text": [
            "0.5567447194595029\n",
            "6.042605380273674\n",
            "10.0\n",
            "[7.8, 7.79, 5.67, 7.14, 10.06, 6.95, 10.41, 6.94, 5.63, 5.61, 7.56, 7.22, 9.56, 10.91, 5.77, 9.34, 5.66, 10.81, 5.61, 10.27]\n"
          ]
        }
      ]
    },
    {
      "cell_type": "markdown",
      "metadata": {
        "id": "2SNoBNes39ef"
      },
      "source": [
        "# 30 noviembre 2021"
      ]
    },
    {
      "cell_type": "markdown",
      "metadata": {
        "id": "08lGyDvN54CW"
      },
      "source": [
        "# Estructura de control de repetición Haz-mientras (While)\n",
        "Una estructura de control haz.mientras nos permite ejecutar repetidamente mientras una condición se siga cumpliendo\n",
        "### Sintaxis\n",
        "```\n",
        "while <condicion>\n",
        "    <Bloque de sentencias a ejecutar repetidamente>\n",
        "<siguiente sentencia posterior al while>\n",
        "```\n",
        "La diferencia principal en comparación con la estrcutura for es que WHILE **NO conoces** el número de ciclos a ejecutar en for si se conoce\n",
        "\n",
        "Com ejemplo iniciamos con el siguiente enunciado\n",
        "\n",
        "Hacer un programa que solicite un valor entero positivo y calcule repeditamente la mitad y se reasigne a la misma variable. El ciclo se debe detener cuando el resultado sea menor a 1\n",
        "\n",
        "Mostrar en pantalla el resultado de cada cálculo y al final el núemero de iteraciones que realizo\n",
        "```\n",
        "Introduce un número entero positivo: 17\n",
        "8.5\n",
        "4.25\n",
        "2.12\n",
        "1.06\n",
        "0.53\n",
        "Total de iteraciones = 5\n",
        "```"
      ]
    },
    {
      "cell_type": "code",
      "metadata": {
        "colab": {
          "base_uri": "https://localhost:8080/"
        },
        "id": "ngJQIEfPPggp",
        "outputId": "1a94a6a4-910b-408a-e455-4d7df04e83d4"
      },
      "source": [
        "valor = int(input(\"Introduce un número entero positivo: \"))\n",
        "contador = 0\n",
        "if valor > 0:\n",
        "    while valor > 1.0:\n",
        "        valor = valor/2\n",
        "        print(round(valor,2))\n",
        "        contador +=1\n",
        "else:\n",
        "    print(\"El número es negativo, intente de nuevo\")\n",
        "print(\"Total de iteraciones:\",contador)"
      ],
      "execution_count": 13,
      "outputs": [
        {
          "output_type": "stream",
          "name": "stdout",
          "text": [
            "Introduce un número entero positivo: 17\n",
            "8.5\n",
            "4.25\n",
            "2.12\n",
            "1.06\n",
            "0.53\n",
            "Total de iteraciones: 5\n"
          ]
        }
      ]
    },
    {
      "cell_type": "code",
      "metadata": {
        "colab": {
          "base_uri": "https://localhost:8080/"
        },
        "id": "JWB5DW9D4ESk",
        "outputId": "c1b40cd8-c1d8-4124-a124-cf8550fee2b9"
      },
      "source": [
        "valor = int(input(\"Dame un valor entero: \"))\n",
        "\n",
        "while valor != 0:\n",
        "    print(valor)\n",
        "    valor = int(input(\"Dame un valor entero: \"))\n",
        "print(\"--FIN DEL PROGRAMA--\")"
      ],
      "execution_count": null,
      "outputs": [
        {
          "output_type": "stream",
          "name": "stdout",
          "text": [
            "Dame un valor entero: 6\n",
            "6\n",
            "Dame un valor entero: 6\n",
            "6\n",
            "Dame un valor entero: 0\n",
            "--FIN DEL PROGRAMA--\n"
          ]
        }
      ]
    },
    {
      "cell_type": "code",
      "metadata": {
        "id": "0Mwbo6Zr9aN8"
      },
      "source": [
        "# Bucle infinito no ejecutar\n",
        "valor = int(input(\"Dame un valor entero: \"))\n",
        "while valor != 0:\n",
        "    print(valor)\n",
        "    print(\"otras cosas\")\n",
        "print(\"--FIN DEL PROGRAMA--\")"
      ],
      "execution_count": null,
      "outputs": []
    },
    {
      "cell_type": "code",
      "metadata": {
        "colab": {
          "base_uri": "https://localhost:8080/"
        },
        "id": "6UCt44YB_rW4",
        "outputId": "46bfb565-4102-49d2-960b-cc65b95208b1"
      },
      "source": [
        "n = int(input(\"Ingrese un número entero positivo: \"))\n",
        "if n > 0:\n",
        "    print(\"Es correcto\")\n",
        "    for i in range(1,11):\n",
        "        print(n,\"por\",i,\"es igual a:\",n*i)\n",
        "else:\n",
        "    print(\"El número ingresado no es correcto\")"
      ],
      "execution_count": null,
      "outputs": [
        {
          "output_type": "stream",
          "name": "stdout",
          "text": [
            "Ingrese un número entero positivo: 5\n",
            "Es correcto\n",
            "5 por 1 es igual a: 5\n",
            "5 por 2 es igual a: 10\n",
            "5 por 3 es igual a: 15\n",
            "5 por 4 es igual a: 20\n",
            "5 por 5 es igual a: 25\n",
            "5 por 6 es igual a: 30\n",
            "5 por 7 es igual a: 35\n",
            "5 por 8 es igual a: 40\n",
            "5 por 9 es igual a: 45\n",
            "5 por 10 es igual a: 50\n"
          ]
        }
      ]
    },
    {
      "cell_type": "code",
      "metadata": {
        "id": "_cuuB8vOIB61",
        "colab": {
          "base_uri": "https://localhost:8080/"
        },
        "outputId": "b986556a-6532-410b-90be-baf17c98ea20"
      },
      "source": [
        "comprobar = True\n",
        "while comprobar == True: \n",
        "    n = int(input(\"Ingrese un número entero positivo: \"))\n",
        "    if n > 0:\n",
        "        print(\"Es correcto\")\n",
        "    for i in range(1,11):\n",
        "        print(n,\"por\",i,\"es igual a:\",n*i)\n",
        "        comprobar = False\n",
        "    else:\n",
        "        print(\"El número ingresado no es correcto\")"
      ],
      "execution_count": 4,
      "outputs": [
        {
          "output_type": "stream",
          "name": "stdout",
          "text": [
            "Ingrese un número entero positivo: 3\n",
            "Es correcto\n",
            "3 por 1 es igual a: 3\n",
            "3 por 2 es igual a: 6\n",
            "3 por 3 es igual a: 9\n",
            "3 por 4 es igual a: 12\n",
            "3 por 5 es igual a: 15\n",
            "3 por 6 es igual a: 18\n",
            "3 por 7 es igual a: 21\n",
            "3 por 8 es igual a: 24\n",
            "3 por 9 es igual a: 27\n",
            "3 por 10 es igual a: 30\n",
            "El número ingresado no es correcto\n"
          ]
        }
      ]
    },
    {
      "cell_type": "code",
      "metadata": {
        "id": "agb2yeQTHdBd",
        "colab": {
          "base_uri": "https://localhost:8080/"
        },
        "outputId": "9bdc407e-c6fb-44a8-c965-ac1656ce62b1"
      },
      "source": [
        "comprobar = True\n",
        "while comprobar == True: \n",
        "    n = int(input(\"Ingrese un número entero positivo: \"))\n",
        "    if n > 0:\n",
        "        i=1\n",
        "        while i<11:\n",
        "            print(n,\"por\",1,\"es igual a:\",n*i)\n",
        "            i+=1\n",
        "        comprobar = False\n",
        "    else:\n",
        "        print(\"El número ingresado no es correcto\")"
      ],
      "execution_count": 8,
      "outputs": [
        {
          "output_type": "stream",
          "name": "stdout",
          "text": [
            "Ingrese un número entero positivo: -6\n",
            "El número ingresado no es correcto\n",
            "Ingrese un número entero positivo: -7\n",
            "El número ingresado no es correcto\n",
            "Ingrese un número entero positivo: 0\n",
            "El número ingresado no es correcto\n",
            "Ingrese un número entero positivo: 6\n",
            "6 por 1 es igual a: 6\n",
            "6 por 1 es igual a: 12\n",
            "6 por 1 es igual a: 18\n",
            "6 por 1 es igual a: 24\n",
            "6 por 1 es igual a: 30\n",
            "6 por 1 es igual a: 36\n",
            "6 por 1 es igual a: 42\n",
            "6 por 1 es igual a: 48\n",
            "6 por 1 es igual a: 54\n",
            "6 por 1 es igual a: 60\n"
          ]
        }
      ]
    },
    {
      "cell_type": "code",
      "metadata": {
        "colab": {
          "base_uri": "https://localhost:8080/"
        },
        "id": "OoUQKwRTJSEg",
        "outputId": "9feb9a73-df2e-49eb-ec8c-95e4dd1cc08f"
      },
      "source": [
        "n = int(input(\"Ingrese un número entero positivo: \"))\n",
        "\n",
        "if n > 0:\n",
        "    resultado = 0\n",
        "\n",
        "    for i in range(1,n+1):\n",
        "        resultado += (1/i)\n",
        "        print(\"El resultado de la serie es:\",resultado)\n",
        "else:\n",
        "    print(\"El número ingresado no es correcto, intente de nuevo\")"
      ],
      "execution_count": 7,
      "outputs": [
        {
          "output_type": "stream",
          "name": "stdout",
          "text": [
            "Ingrese un número entero positivo: -5\n",
            "El número ingresado no es correcto, intente de nuevo\n"
          ]
        }
      ]
    },
    {
      "cell_type": "code",
      "metadata": {
        "colab": {
          "base_uri": "https://localhost:8080/"
        },
        "id": "COIE5kFyMfSR",
        "outputId": "ad7fabbd-3e42-4834-f459-9021becc7c17"
      },
      "source": [
        "comprobar = True\n",
        "while comprobar == True:\n",
        "    n = int(input(\"Ingrese un número entero positivo: \"))\n",
        "\n",
        "    if n > 0:\n",
        "        comprobar = False\n",
        "        resultado = 0\n",
        "\n",
        "    for i in range(1,n+1):\n",
        "        resultado += (1/i)\n",
        "        print(\"El resultado de la serie es:\",resultado)\n",
        "    else:\n",
        "        print(\"El número ingresado no es correcto, intente de nuevo\")"
      ],
      "execution_count": 11,
      "outputs": [
        {
          "output_type": "stream",
          "name": "stdout",
          "text": [
            "Ingrese un número entero positivo: -5\n",
            "El número ingresado no es correcto, intente de nuevo\n",
            "Ingrese un número entero positivo: -1\n",
            "El número ingresado no es correcto, intente de nuevo\n",
            "Ingrese un número entero positivo: 4\n",
            "El resultado de la serie es: 1.0\n",
            "El resultado de la serie es: 1.5\n",
            "El resultado de la serie es: 1.8333333333333333\n",
            "El resultado de la serie es: 2.083333333333333\n",
            "El número ingresado no es correcto, intente de nuevo\n"
          ]
        }
      ]
    }
  ]
}