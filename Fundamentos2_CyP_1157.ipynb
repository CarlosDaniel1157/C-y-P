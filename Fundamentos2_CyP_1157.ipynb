{
  "nbformat": 4,
  "nbformat_minor": 0,
  "metadata": {
    "colab": {
      "name": "Fundamentos2_CyP_1157.ipynb",
      "provenance": [],
      "authorship_tag": "ABX9TyPVG5i+Q1vpIpybDvHMd/1U",
      "include_colab_link": true
    },
    "kernelspec": {
      "name": "python3",
      "display_name": "Python 3"
    },
    "language_info": {
      "name": "python"
    }
  },
  "cells": [
    {
      "cell_type": "markdown",
      "metadata": {
        "id": "view-in-github",
        "colab_type": "text"
      },
      "source": [
        "<a href=\"https://colab.research.google.com/github/CarlosDaniel1157/CyP/blob/main/Fundamentos2_CyP_1157.ipynb\" target=\"_parent\"><img src=\"https://colab.research.google.com/assets/colab-badge.svg\" alt=\"Open In Colab\"/></a>"
      ]
    },
    {
      "cell_type": "markdown",
      "metadata": {
        "id": "ZBnCziI7Fghy"
      },
      "source": [
        "# Tipos de datos estructurados\n",
        "\n",
        "1. Listas\n",
        "2. Tuplas\n",
        "3. Diccionarios\n",
        "4. Conjuntos (opcional)\n"
      ]
    },
    {
      "cell_type": "markdown",
      "metadata": {
        "id": "S8DzQJl7F2Tg"
      },
      "source": [
        "# Listas\n",
        "- Tipo de dato que agrupa variables o valores.\n",
        "- Se declara de dos formas\n",
        "  - Usando []\n",
        "  - Usando list ()\n",
        "- Puede contener tipos de dato diversos (En otros lenguajes de programación eso no es posible de forma directa)\n",
        "- Los elemnetos internos se seleccionan con []\n",
        "- Soporta slicing\n",
        "-SON MUTABLES\n",
        "- GENERADORES\n"
      ]
    },
    {
      "cell_type": "code",
      "metadata": {
        "colab": {
          "base_uri": "https://localhost:8080/"
        },
        "id": "IXanCRkMFe_O",
        "outputId": "de908db5-9663-4fcd-c942-2b738d51d17f"
      },
      "source": [
        "numeros = [10, 5, 2, 3, 1]\n",
        "print(numeros)\n",
        "\n",
        "numeros2 = list()\n",
        "numeros2.append(10)\n",
        "numeros2.append(5)\n",
        "numeros2.append(2)\n",
        "numeros2.append(3)\n",
        "numeros2.append(1)\n",
        "print(numeros2)\n",
        "\n",
        "numeros [2] = 20\n",
        "print(numeros)\n",
        "numeros [4] = 33  #numeros [-1] = 33\n",
        "print(numeros)\n",
        "numeros.append (88)\n",
        "print(numeros)\n"
      ],
      "execution_count": 25,
      "outputs": [
        {
          "output_type": "stream",
          "name": "stdout",
          "text": [
            "[10, 5, 2, 3, 1]\n",
            "[10, 5, 2, 3, 1]\n",
            "[10, 5, 20, 3, 1]\n",
            "[10, 5, 20, 3, 33]\n",
            "[10, 5, 20, 3, 33, 88]\n"
          ]
        }
      ]
    },
    {
      "cell_type": "code",
      "metadata": {
        "colab": {
          "base_uri": "https://localhost:8080/"
        },
        "id": "PxFfNYK6Il3T",
        "outputId": "1dcf5fc7-d080-4a2c-b2da-57e75700b1e2"
      },
      "source": [
        "# Tipos diversos\n",
        "\n",
        "cosas = (12,2,True, \"Jose\", 1.57, [\"Pera\",\"kiwi\",\"Uva\" ])\n",
        "print(cosas)\n",
        "print(cosas[1])\n",
        "print(cosas[4])\n",
        "print(cosas[5])\n",
        "print(cosas[5][1])\n",
        "print(cosas[3][1:3:])\n",
        "#cosas[3] = cosas[3].upper()\n",
        "#print(cosas)"
      ],
      "execution_count": 39,
      "outputs": [
        {
          "output_type": "stream",
          "name": "stdout",
          "text": [
            "(12, 2, True, 'Jose', 1.57, ['Pera', 'kiwi', 'Uva'])\n",
            "2\n",
            "1.57\n",
            "['Pera', 'kiwi', 'Uva']\n",
            "kiwi\n",
            "os\n"
          ]
        }
      ]
    },
    {
      "cell_type": "code",
      "metadata": {
        "colab": {
          "base_uri": "https://localhost:8080/"
        },
        "id": "WLObaoX6L5AY",
        "outputId": "ba14ac37-20da-4da6-d125-3422ca06adab"
      },
      "source": [
        "numeros = [1,2,3,4,5,6,7,8,9,10,11]\n",
        "print(numeros)\n",
        "# slcinig\n",
        "#1.- [4,....,8]\n",
        "print(numeros[3:8:])\n",
        "#2.- [9,10]\n",
        "print(numeros[-3:-1:])\n",
        "print(numeros[8:10:])\n",
        "#3.- [11,10,9....,1]\n",
        "print(numeros[::-1])"
      ],
      "execution_count": 52,
      "outputs": [
        {
          "output_type": "stream",
          "name": "stdout",
          "text": [
            "[1, 2, 3, 4, 5, 6, 7, 8, 9, 10, 11]\n",
            "[4, 5, 6, 7, 8]\n",
            "[9, 10]\n",
            "[9, 10]\n",
            "[11, 10, 9, 8, 7, 6, 5, 4, 3, 2, 1]\n"
          ]
        }
      ]
    },
    {
      "cell_type": "code",
      "metadata": {
        "colab": {
          "base_uri": "https://localhost:8080/"
        },
        "id": "C9Dooa2jPrC9",
        "outputId": "601d6649-2361-4d73-c24a-b8b6d031416d"
      },
      "source": [
        "# Crear una lista con generadores\n",
        "\n",
        "numeros = [x for x in range (31)]\n",
        "print (numeros)\n"
      ],
      "execution_count": 60,
      "outputs": [
        {
          "output_type": "stream",
          "name": "stdout",
          "text": [
            "[0, 1, 2, 3, 4, 5, 6, 7, 8, 9, 10, 11, 12, 13, 14, 15, 16, 17, 18, 19, 20, 21, 22, 23, 24, 25, 26, 27, 28, 29, 30]\n"
          ]
        }
      ]
    },
    {
      "cell_type": "markdown",
      "metadata": {
        "id": "aIHFPmbBQXIM"
      },
      "source": [
        " # Función range()\n",
        " Tienen los mismos componentes que slicing \n",
        " inicio, stop, incremento\n",
        " range(1,101,1)"
      ]
    },
    {
      "cell_type": "code",
      "metadata": {
        "colab": {
          "base_uri": "https://localhost:8080/"
        },
        "id": "bFKeksE5Qx99",
        "outputId": "e81cd45b-1559-4ebd-eba6-2f047d153126"
      },
      "source": [
        "numeros = [x for x in range (50,101,5)]\n",
        "print (numeros)"
      ],
      "execution_count": 64,
      "outputs": [
        {
          "output_type": "stream",
          "name": "stdout",
          "text": [
            "[50, 55, 60, 65, 70, 75, 80, 85, 90, 95, 100]\n"
          ]
        }
      ]
    },
    {
      "cell_type": "markdown",
      "metadata": {
        "id": "Dz9oqlzhRMUi"
      },
      "source": [
        "# Metodos disponibles de las listas\n"
      ]
    },
    {
      "cell_type": "code",
      "metadata": {
        "colab": {
          "base_uri": "https://localhost:8080/"
        },
        "id": "cKR93ZtcRRnB",
        "outputId": "4d5ff2a4-c1a2-457f-d395-3c2f0cddd0d9"
      },
      "source": [
        "dir(list)"
      ],
      "execution_count": 66,
      "outputs": [
        {
          "output_type": "execute_result",
          "data": {
            "text/plain": [
              "['__add__',\n",
              " '__class__',\n",
              " '__contains__',\n",
              " '__delattr__',\n",
              " '__delitem__',\n",
              " '__dir__',\n",
              " '__doc__',\n",
              " '__eq__',\n",
              " '__format__',\n",
              " '__ge__',\n",
              " '__getattribute__',\n",
              " '__getitem__',\n",
              " '__gt__',\n",
              " '__hash__',\n",
              " '__iadd__',\n",
              " '__imul__',\n",
              " '__init__',\n",
              " '__init_subclass__',\n",
              " '__iter__',\n",
              " '__le__',\n",
              " '__len__',\n",
              " '__lt__',\n",
              " '__mul__',\n",
              " '__ne__',\n",
              " '__new__',\n",
              " '__reduce__',\n",
              " '__reduce_ex__',\n",
              " '__repr__',\n",
              " '__reversed__',\n",
              " '__rmul__',\n",
              " '__setattr__',\n",
              " '__setitem__',\n",
              " '__sizeof__',\n",
              " '__str__',\n",
              " '__subclasshook__',\n",
              " 'append',\n",
              " 'clear',\n",
              " 'copy',\n",
              " 'count',\n",
              " 'extend',\n",
              " 'index',\n",
              " 'insert',\n",
              " 'pop',\n",
              " 'remove',\n",
              " 'reverse',\n",
              " 'sort']"
            ]
          },
          "metadata": {},
          "execution_count": 66
        }
      ]
    },
    {
      "cell_type": "code",
      "metadata": {
        "colab": {
          "base_uri": "https://localhost:8080/"
        },
        "id": "p1cpPazWSYJz",
        "outputId": "0ab0a4e5-dc45-4749-a64a-b4d6d74fdd4e"
      },
      "source": [
        "numeros = [4,1,15,8,22,34,50]\n",
        "print(numeros)\n",
        "numeros.append(99)\n",
        "print(numeros)\n",
        "numeros.clear()\n",
        "print(numeros)\n",
        "numeros = []\n",
        "print(numeros)\n",
        "frutas = (\"Uvas\",\"Kiwi\",\"Manzanas\")\n",
        "copia = frutas\n",
        "print(frutas)\n",
        "print(copia)\n",
        "#frutas.append(\"naranja\")\n",
        "print(frutas)\n",
        "print(copia)\n",
        "\n",
        "colores = (\"Rojo\",\"Azul\",\"Blanco\")\n",
        "#copia2 = colores.copy()\n",
        "print(colores)\n",
        "#print(copia2)\n",
        "#colores.append(\"Verde\")\n",
        "print(colores)\n",
        "#print(copia2)\n",
        "\n",
        "print(\"Numero de veces  que aparece el 15=\", numeros.count(15))\n",
        "\n",
        "#extend\n",
        "nombres = (\"Jose\",\"Pedro\",\"Karina\")\n",
        "otrosNombres = (\"Josue\", \"Diana\", \"Dalia\")\n",
        "print(nombres)\n",
        "print(otrosNombres)\n",
        "nombres = nombres + otrosNombres\n",
        "print(nombres)\n",
        "print(otrosNombres)\n",
        "# Lo mismo con el metodo extend\n",
        "#otrosNombres.extend(['Jesus','Maria','Jose'])\n",
        "print(otrosNombres)\n",
        "\n",
        "#print(\"Jesus esta en la posición: \", otrosNombres.index(\"Jesus\"))"
      ],
      "execution_count": 97,
      "outputs": [
        {
          "output_type": "stream",
          "name": "stdout",
          "text": [
            "[4, 1, 15, 8, 22, 34, 50]\n",
            "[4, 1, 15, 8, 22, 34, 50, 99]\n",
            "[]\n",
            "[]\n",
            "('Uvas', 'Kiwi', 'Manzanas')\n",
            "('Uvas', 'Kiwi', 'Manzanas')\n",
            "('Uvas', 'Kiwi', 'Manzanas')\n",
            "('Uvas', 'Kiwi', 'Manzanas')\n",
            "('Rojo', 'Azul', 'Blanco')\n",
            "('Rojo', 'Azul', 'Blanco')\n",
            "Numero de veces  que aparece el 15= 0\n",
            "('Jose', 'Pedro', 'Karina')\n",
            "('Josue', 'Diana', 'Dalia')\n",
            "('Jose', 'Pedro', 'Karina', 'Josue', 'Diana', 'Dalia')\n",
            "('Josue', 'Diana', 'Dalia')\n",
            "('Josue', 'Diana', 'Dalia')\n"
          ]
        }
      ]
    }
  ]
}