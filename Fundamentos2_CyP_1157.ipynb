{
  "nbformat": 4,
  "nbformat_minor": 0,
  "metadata": {
    "colab": {
      "name": "Fundamentos2_CyP_1157.ipynb",
      "provenance": [],
      "collapsed_sections": [],
      "authorship_tag": "ABX9TyPeNd5AUHWfImpQYFwrZRGD",
      "include_colab_link": true
    },
    "kernelspec": {
      "name": "python3",
      "display_name": "Python 3"
    },
    "language_info": {
      "name": "python"
    }
  },
  "cells": [
    {
      "cell_type": "markdown",
      "metadata": {
        "id": "view-in-github",
        "colab_type": "text"
      },
      "source": [
        "<a href=\"https://colab.research.google.com/github/CarlosDaniel1157/CyP/blob/main/Fundamentos2_CyP_1157.ipynb\" target=\"_parent\"><img src=\"https://colab.research.google.com/assets/colab-badge.svg\" alt=\"Open In Colab\"/></a>"
      ]
    },
    {
      "cell_type": "markdown",
      "metadata": {
        "id": "ZBnCziI7Fghy"
      },
      "source": [
        "# Tipos de datos estructurados\n",
        "\n",
        "1. Listas\n",
        "2. Tuplas\n",
        "3. Diccionarios\n",
        "4. Conjuntos (opcional)\n"
      ]
    },
    {
      "cell_type": "markdown",
      "metadata": {
        "id": "S8DzQJl7F2Tg"
      },
      "source": [
        "# Listas\n",
        "- Tipo de dato que agrupa variables o valores.\n",
        "- Se declara de dos formas\n",
        "  - Usando []\n",
        "  - Usando list ()\n",
        "- Puede contener tipos de dato diversos (En otros lenguajes de programación eso no es posible de forma directa)\n",
        "- Los elemnetos internos se seleccionan con []\n",
        "- Soporta slicing\n",
        "-SON MUTABLES\n",
        "- GENERADORES\n"
      ]
    },
    {
      "cell_type": "code",
      "metadata": {
        "colab": {
          "base_uri": "https://localhost:8080/"
        },
        "id": "IXanCRkMFe_O",
        "outputId": "de908db5-9663-4fcd-c942-2b738d51d17f"
      },
      "source": [
        "numeros = [10, 5, 2, 3, 1]\n",
        "print(numeros)\n",
        "\n",
        "numeros2 = list()\n",
        "numeros2.append(10)\n",
        "numeros2.append(5)\n",
        "numeros2.append(2)\n",
        "numeros2.append(3)\n",
        "numeros2.append(1)\n",
        "print(numeros2)\n",
        "\n",
        "numeros [2] = 20\n",
        "print(numeros)\n",
        "numeros [4] = 33  #numeros [-1] = 33\n",
        "print(numeros)\n",
        "numeros.append (88)\n",
        "print(numeros)\n"
      ],
      "execution_count": null,
      "outputs": [
        {
          "output_type": "stream",
          "name": "stdout",
          "text": [
            "[10, 5, 2, 3, 1]\n",
            "[10, 5, 2, 3, 1]\n",
            "[10, 5, 20, 3, 1]\n",
            "[10, 5, 20, 3, 33]\n",
            "[10, 5, 20, 3, 33, 88]\n"
          ]
        }
      ]
    },
    {
      "cell_type": "code",
      "metadata": {
        "colab": {
          "base_uri": "https://localhost:8080/"
        },
        "id": "PxFfNYK6Il3T",
        "outputId": "1dcf5fc7-d080-4a2c-b2da-57e75700b1e2"
      },
      "source": [
        "# Tipos diversos\n",
        "\n",
        "cosas = (12,2,True, \"Jose\", 1.57, [\"Pera\",\"kiwi\",\"Uva\" ])\n",
        "print(cosas)\n",
        "print(cosas[1])\n",
        "print(cosas[4])\n",
        "print(cosas[5])\n",
        "print(cosas[5][1])\n",
        "print(cosas[3][1:3:])\n",
        "#cosas[3] = cosas[3].upper()\n",
        "#print(cosas)"
      ],
      "execution_count": null,
      "outputs": [
        {
          "output_type": "stream",
          "name": "stdout",
          "text": [
            "(12, 2, True, 'Jose', 1.57, ['Pera', 'kiwi', 'Uva'])\n",
            "2\n",
            "1.57\n",
            "['Pera', 'kiwi', 'Uva']\n",
            "kiwi\n",
            "os\n"
          ]
        }
      ]
    },
    {
      "cell_type": "code",
      "metadata": {
        "colab": {
          "base_uri": "https://localhost:8080/"
        },
        "id": "WLObaoX6L5AY",
        "outputId": "ba14ac37-20da-4da6-d125-3422ca06adab"
      },
      "source": [
        "numeros = [1,2,3,4,5,6,7,8,9,10,11]\n",
        "print(numeros)\n",
        "# slcinig\n",
        "#1.- [4,....,8]\n",
        "print(numeros[3:8:])\n",
        "#2.- [9,10]\n",
        "print(numeros[-3:-1:])\n",
        "print(numeros[8:10:])\n",
        "#3.- [11,10,9....,1]\n",
        "print(numeros[::-1])"
      ],
      "execution_count": null,
      "outputs": [
        {
          "output_type": "stream",
          "name": "stdout",
          "text": [
            "[1, 2, 3, 4, 5, 6, 7, 8, 9, 10, 11]\n",
            "[4, 5, 6, 7, 8]\n",
            "[9, 10]\n",
            "[9, 10]\n",
            "[11, 10, 9, 8, 7, 6, 5, 4, 3, 2, 1]\n"
          ]
        }
      ]
    },
    {
      "cell_type": "code",
      "metadata": {
        "colab": {
          "base_uri": "https://localhost:8080/"
        },
        "id": "C9Dooa2jPrC9",
        "outputId": "601d6649-2361-4d73-c24a-b8b6d031416d"
      },
      "source": [
        "# Crear una lista con generadores\n",
        "\n",
        "numeros = [x for x in range (31)]\n",
        "print (numeros)\n"
      ],
      "execution_count": null,
      "outputs": [
        {
          "output_type": "stream",
          "name": "stdout",
          "text": [
            "[0, 1, 2, 3, 4, 5, 6, 7, 8, 9, 10, 11, 12, 13, 14, 15, 16, 17, 18, 19, 20, 21, 22, 23, 24, 25, 26, 27, 28, 29, 30]\n"
          ]
        }
      ]
    },
    {
      "cell_type": "markdown",
      "metadata": {
        "id": "aIHFPmbBQXIM"
      },
      "source": [
        " # Función range()\n",
        " Tienen los mismos componentes que slicing \n",
        " inicio, stop, incremento\n",
        " range(1,101,1)"
      ]
    },
    {
      "cell_type": "code",
      "metadata": {
        "colab": {
          "base_uri": "https://localhost:8080/"
        },
        "id": "bFKeksE5Qx99",
        "outputId": "e81cd45b-1559-4ebd-eba6-2f047d153126"
      },
      "source": [
        "numeros = [x for x in range (50,101,5)]\n",
        "print (numeros)"
      ],
      "execution_count": null,
      "outputs": [
        {
          "output_type": "stream",
          "name": "stdout",
          "text": [
            "[50, 55, 60, 65, 70, 75, 80, 85, 90, 95, 100]\n"
          ]
        }
      ]
    },
    {
      "cell_type": "markdown",
      "metadata": {
        "id": "Dz9oqlzhRMUi"
      },
      "source": [
        "# Metodos disponibles de las listas\n"
      ]
    },
    {
      "cell_type": "code",
      "metadata": {
        "colab": {
          "base_uri": "https://localhost:8080/"
        },
        "id": "cKR93ZtcRRnB",
        "outputId": "4d5ff2a4-c1a2-457f-d395-3c2f0cddd0d9"
      },
      "source": [
        "dir(list)"
      ],
      "execution_count": null,
      "outputs": [
        {
          "output_type": "execute_result",
          "data": {
            "text/plain": [
              "['__add__',\n",
              " '__class__',\n",
              " '__contains__',\n",
              " '__delattr__',\n",
              " '__delitem__',\n",
              " '__dir__',\n",
              " '__doc__',\n",
              " '__eq__',\n",
              " '__format__',\n",
              " '__ge__',\n",
              " '__getattribute__',\n",
              " '__getitem__',\n",
              " '__gt__',\n",
              " '__hash__',\n",
              " '__iadd__',\n",
              " '__imul__',\n",
              " '__init__',\n",
              " '__init_subclass__',\n",
              " '__iter__',\n",
              " '__le__',\n",
              " '__len__',\n",
              " '__lt__',\n",
              " '__mul__',\n",
              " '__ne__',\n",
              " '__new__',\n",
              " '__reduce__',\n",
              " '__reduce_ex__',\n",
              " '__repr__',\n",
              " '__reversed__',\n",
              " '__rmul__',\n",
              " '__setattr__',\n",
              " '__setitem__',\n",
              " '__sizeof__',\n",
              " '__str__',\n",
              " '__subclasshook__',\n",
              " 'append',\n",
              " 'clear',\n",
              " 'copy',\n",
              " 'count',\n",
              " 'extend',\n",
              " 'index',\n",
              " 'insert',\n",
              " 'pop',\n",
              " 'remove',\n",
              " 'reverse',\n",
              " 'sort']"
            ]
          },
          "metadata": {},
          "execution_count": 66
        }
      ]
    },
    {
      "cell_type": "code",
      "metadata": {
        "colab": {
          "base_uri": "https://localhost:8080/"
        },
        "id": "p1cpPazWSYJz",
        "outputId": "0ab0a4e5-dc45-4749-a64a-b4d6d74fdd4e"
      },
      "source": [
        "numeros = [4,1,15,8,22,34,50]\n",
        "print(numeros)\n",
        "numeros.append(99)\n",
        "print(numeros)\n",
        "numeros.clear()\n",
        "print(numeros)\n",
        "numeros = []\n",
        "print(numeros)\n",
        "frutas = (\"Uvas\",\"Kiwi\",\"Manzanas\")\n",
        "copia = frutas\n",
        "print(frutas)\n",
        "print(copia)\n",
        "#frutas.append(\"naranja\")\n",
        "print(frutas)\n",
        "print(copia)\n",
        "\n",
        "colores = (\"Rojo\",\"Azul\",\"Blanco\")\n",
        "#copia2 = colores.copy()\n",
        "print(colores)\n",
        "#print(copia2)\n",
        "#colores.append(\"Verde\")\n",
        "print(colores)\n",
        "#print(copia2)\n",
        "\n",
        "print(\"Numero de veces  que aparece el 15=\", numeros.count(15))\n",
        "\n",
        "#extend\n",
        "nombres = (\"Jose\",\"Pedro\",\"Karina\")\n",
        "otrosNombres = (\"Josue\", \"Diana\", \"Dalia\")\n",
        "print(nombres)\n",
        "print(otrosNombres)\n",
        "nombres = nombres + otrosNombres\n",
        "print(nombres)\n",
        "print(otrosNombres)\n",
        "# Lo mismo con el metodo extend\n",
        "#otrosNombres.extend(['Jesus','Maria','Jose'])\n",
        "print(otrosNombres)\n",
        "\n",
        "#print(\"Jesus esta en la posición: \", otrosNombres.index(\"Jesus\"))"
      ],
      "execution_count": null,
      "outputs": [
        {
          "output_type": "stream",
          "name": "stdout",
          "text": [
            "[4, 1, 15, 8, 22, 34, 50]\n",
            "[4, 1, 15, 8, 22, 34, 50, 99]\n",
            "[]\n",
            "[]\n",
            "('Uvas', 'Kiwi', 'Manzanas')\n",
            "('Uvas', 'Kiwi', 'Manzanas')\n",
            "('Uvas', 'Kiwi', 'Manzanas')\n",
            "('Uvas', 'Kiwi', 'Manzanas')\n",
            "('Rojo', 'Azul', 'Blanco')\n",
            "('Rojo', 'Azul', 'Blanco')\n",
            "Numero de veces  que aparece el 15= 0\n",
            "('Jose', 'Pedro', 'Karina')\n",
            "('Josue', 'Diana', 'Dalia')\n",
            "('Jose', 'Pedro', 'Karina', 'Josue', 'Diana', 'Dalia')\n",
            "('Josue', 'Diana', 'Dalia')\n",
            "('Josue', 'Diana', 'Dalia')\n"
          ]
        }
      ]
    },
    {
      "cell_type": "markdown",
      "metadata": {
        "id": "BIfG-qKTwlqh"
      },
      "source": [
        "# 09 Noviembre 20021"
      ]
    },
    {
      "cell_type": "markdown",
      "metadata": {
        "id": "lrjWgTD9v_rD"
      },
      "source": [
        "# Tuplas\n",
        "Caracteristicas de la tuplas\n",
        "- Datos agrupados\n",
        "- Se declara de dos formas\n",
        "  - ()\n",
        "  -tuple()\n",
        "- Pueden tenere de 0 a n elementos\n",
        "- NO SON MUTABLES (no se puede eliminar y/o cambiar)\n",
        "- Son buenas para almacenar información de consulta\n",
        "- Puenen almacenar información de diferente tipo de dato\n",
        "- Pueden estar anidadas\n",
        "- Tienen metodos utiles\n",
        "\n"
      ]
    },
    {
      "cell_type": "code",
      "metadata": {
        "colab": {
          "base_uri": "https://localhost:8080/"
        },
        "id": "YA8Dj_2-w91x",
        "outputId": "179202ea-1511-471a-f008-8ec8d6c30d2b"
      },
      "source": [
        "info = (\"juan 23\",\"dios1234\",\"123.232.1.12\")\n",
        "print(info)\n",
        "print(info[1])\n",
        "#info[1]=\"patito23\"\n",
        "\n",
        "numeros = (0,1,2,3,4,5,6,7,8,9,10,11,12,13,14,15)\n",
        "print(numeros)\n",
        "print(numeros[5:11])\n",
        "cosas = (info, numeros)\n",
        "print(cosas)\n",
        "print(cosas[1][5:11:1])\n",
        "print(cosas[0][2][4:7])\n",
        "\n",
        "\n"
      ],
      "execution_count": null,
      "outputs": [
        {
          "output_type": "stream",
          "name": "stdout",
          "text": [
            "('juan 23', 'dios1234', '123.232.1.12')\n",
            "dios1234\n",
            "(0, 1, 2, 3, 4, 5, 6, 7, 8, 9, 10, 11, 12, 13, 14, 15)\n",
            "(5, 6, 7, 8, 9, 10)\n",
            "(('juan 23', 'dios1234', '123.232.1.12'), (0, 1, 2, 3, 4, 5, 6, 7, 8, 9, 10, 11, 12, 13, 14, 15))\n",
            "(5, 6, 7, 8, 9, 10)\n",
            "232\n"
          ]
        }
      ]
    },
    {
      "cell_type": "markdown",
      "metadata": {
        "id": "YfLzAUGF0qCM"
      },
      "source": [
        "# Metodos de las duplas\n",
        "Son los mismos de las listas pero los que no involucren mutabilidad"
      ]
    },
    {
      "cell_type": "markdown",
      "metadata": {
        "id": "b5vY6gA82tpg"
      },
      "source": [
        "# Diccionarios\n",
        "### Caracteristicas de los diccionarios\n",
        "\n",
        "- Agrupan datos pero de forma no lineal\n",
        "- Se declaran con:\n",
        "  - {}\n",
        "  - dict()\n",
        "- Formado por pares de tipo llave:valor, donde:\n",
        "  - Llave es de tipo string\n",
        "  - Valor puede der du cualquier tipo de dato, incluyendo los diccionarios\n",
        "- Se seleccionan con la llave de la forma: [\"id_llave\"]\n",
        "- Son mutables\n",
        "- Son anidables\n",
        "- Son equivalentes al tipo de dato JSON del lenguaje JavaScript(JS)\n"
      ]
    },
    {
      "cell_type": "code",
      "metadata": {
        "colab": {
          "base_uri": "https://localhost:8080/"
        },
        "id": "mqMB_f0f0pU2",
        "outputId": "155cdb8c-8dbe-4055-8ce5-650468e86867"
      },
      "source": [
        "alumno = {\"nombre\":\"José\"}\n",
        "print(alumno)\n",
        "print(alumno[\"nombre\"])\n",
        "alumno = {\"nombre\":\"José\",\"nc\":\"12345678\",\"edad\":18}\n",
        "print(alumno)\n",
        "print(\"La edad del alumno es: \",alumno[\"edad\"])\n",
        "print(alumno[\"nombre\"].upper())\n",
        "\n",
        "print(\"Alumno 2\")\n",
        "alumno2= dict()\n",
        "alumno2[\"nombre\"] = \"jose\"\n",
        "alumno2 [\"nc\"]=\"2345671\"\n",
        "alumno2[\"edad\"]=18\n",
        "print(alumno2)\n",
        "\n",
        "alumno2 [\"edad\"] = alumno2[\"edad\"] + 1\n",
        "print(alumno2)"
      ],
      "execution_count": null,
      "outputs": [
        {
          "output_type": "stream",
          "name": "stdout",
          "text": [
            "{'nombre': 'José'}\n",
            "José\n",
            "{'nombre': 'José', 'nc': '12345678', 'edad': 18}\n",
            "La edad del alumno es:  18\n",
            "JOSÉ\n",
            "Alumno 2\n",
            "{'nombre': 'jose', 'nc': '2345671', 'edad': 18}\n",
            "{'nombre': 'jose', 'nc': '2345671', 'edad': 19}\n"
          ]
        }
      ]
    },
    {
      "cell_type": "code",
      "metadata": {
        "colab": {
          "base_uri": "https://localhost:8080/"
        },
        "id": "3WXsEQtN8TOe",
        "outputId": "8fabed44-9a59-4911-b30a-cbd285e3e0d6"
      },
      "source": [
        "cliente = {\"id\":\"CT2121\" ,\n",
        "           \"nombre\":\"Jose Pedroza Rosales\" ,\n",
        "           \"telefono\":\"casa=554423456 cel=31563723\"}\n",
        "print(cliente)\n",
        "cliente = {\"id\":\"CT2121\" ,\n",
        "           \"nombre\":{\n",
        "               \"nombres\":[\"José\",\"Eduardo\"],\n",
        "               \"Paterno\":\"Pedroza\",\n",
        "               \"materno\":\"Rosales\"\n",
        "           } ,\n",
        "           \"telefonos\":{\n",
        "               \"casa\":\"2672378\",\n",
        "               \"trabajo\":\"54364877\",\n",
        "               \"celular\":\"5464377842\"\n",
        "           } ,\n",
        "            \"productos\":{\n",
        "                \"ahorro\":{\"numero_cuenta\":\"7788\",\"ahorro\":2500.5},\n",
        "                          \"tarjetas\":[\n",
        "                                      {\"tipo\":\"debito\",\"saldo\":2500.5},\n",
        "                                      {\"tipo\":\"credito preferente\",\"limite\":250000.5},\n",
        "                                      {\"tipo\":\"lite\",\"limite\":15000.5}\n",
        "                          ]\n",
        "            },\n",
        "           \"dirección\":{\n",
        "               \"calle\":\"Av.Central\",\n",
        "               \"numero\":\"1245\",\n",
        "               \"colonia\":\"Impulsora\",\n",
        "               \"delegación\":\"Nezahulcoyotl\",\n",
        "               \"estado\" : {\n",
        "                   \"clave\":15,\n",
        "                   \"Nombre corto\":\"Edomex\",\n",
        "                   \"nombre\":\"Estado de México\"\n",
        "               }\n",
        "           }\n",
        "           }\n",
        "\n",
        "print(cliente)\n",
        "print(cliente[\"telefonos\"][\"casa\"])\n",
        "print(cliente[\"dirección\"][\"estado\"][\"clave\"])\n",
        "print(cliente[\"productos\"][\"tarjetas\"][2][\"limite\"])\n",
        "print(cliente[\"productos\"][\"tarjetas\"][0][\"saldo\"])\n",
        "print(\"nuevo saldo\",cliente[\"productos\"][\"tarjetas\"][0][\"saldo\"]-1500)\n",
        "print(cliente[\"productos\"])"
      ],
      "execution_count": 10,
      "outputs": [
        {
          "output_type": "stream",
          "name": "stdout",
          "text": [
            "{'id': 'CT2121', 'nombre': 'Jose Pedroza Rosales', 'telefono': 'casa=554423456 cel=31563723'}\n",
            "{'id': 'CT2121', 'nombre': {'nombres': ['José', 'Eduardo'], 'Paterno': 'Pedroza', 'materno': 'Rosales'}, 'telefonos': {'casa': '2672378', 'trabajo': '54364877', 'celular': '5464377842'}, 'productos': {'ahorro': {'numero_cuenta': '7788', 'ahorro': 2500.5}, 'tarjetas': [{'tipo': 'debito', 'saldo': 2500.5}, {'tipo': 'credito preferente', 'limite': 250000.5}, {'tipo': 'lite', 'limite': 15000.5}]}, 'dirección': {'calle': 'Av.Central', 'numero': '1245', 'colonia': 'Impulsora', 'delegación': 'Nezahulcoyotl', 'estado': {'clave': 15, 'Nombre corto': 'Edomex', 'nombre': 'Estado de México'}}}\n",
            "2672378\n",
            "15\n",
            "15000.5\n",
            "2500.5\n",
            "nuevo saldo 1000.5\n",
            "{'ahorro': {'numero_cuenta': '7788', 'ahorro': 2500.5}, 'tarjetas': [{'tipo': 'debito', 'saldo': 2500.5}, {'tipo': 'credito preferente', 'limite': 250000.5}, {'tipo': 'lite', 'limite': 15000.5}]}\n"
          ]
        }
      ]
    },
    {
      "cell_type": "markdown",
      "metadata": {
        "id": "R_wtHWsIav3N"
      },
      "source": [
        "# 11 noviembre 2021"
      ]
    },
    {
      "cell_type": "markdown",
      "metadata": {
        "id": "hwFfaSUdM1vJ"
      },
      "source": [
        "# Estructuras de control de programación\n",
        "\n",
        "Se puede crear cualquier tipo de algoritmo empleando solamente 3 estructuras de control\n",
        "\n",
        "1. Secuencia\n",
        "  - La representación de la memoria de programa (Arquitectura Vonn Newman)\n",
        "2. Selección\n",
        "  - Es la estructura de control que decide si un bloque de programa se ejecuta o no se ejecuta. Tambien permite seleccinar ejecutar un bloque entre un conjunto de opciones.\n",
        "  - En resumen tenemos: Selección simple, seleccion con bifurcación y selección multiple\n",
        "3. Repetición\n",
        "   Este tipo de estructura nos permite automatizar la ejecución repetitiva de código minentras sierta condiciones se cumplan, tenemos 3 variantes de esta estructura en todos los lenguajes de programación\n",
        "    - Desde...hasta (estructura for)\n",
        "    - Mientras (estructura While)\n",
        "    - Haz y luego valida mientras (estructura Do-While)"
      ]
    },
    {
      "cell_type": "markdown",
      "metadata": {
        "id": "3nUVbKfSSEod"
      },
      "source": [
        "# Estructura de selección simple\n",
        "\n",
        "la estructuta if\n",
        "\n",
        "'''\n",
        "if <CONDICION:\n",
        "Cuerpo de if>\n",
        "'''\n",
        "**NOTA** Para establecer el cuerpo de una estructura de control en Python se usan \n",
        "En otros programas como java, C, C++,... se usan las llaves {}"
      ]
    },
    {
      "cell_type": "code",
      "metadata": {
        "colab": {
          "base_uri": "https://localhost:8080/"
        },
        "id": "b7l_0YbfJUQg",
        "outputId": "f5b01518-441f-4e4b-8062-a73d5cc0bacb"
      },
      "source": [
        "edad = int(input(\"Dame tu edad: \"))\n",
        "print(f\"Tecleaste {edad} años\")\n",
        "if edad >= 18:\n",
        "  print(\"Eres mayor de edad\")\n",
        "  print(\"Algo\")\n",
        "print(\"Fin de programa\")"
      ],
      "execution_count": 5,
      "outputs": [
        {
          "output_type": "stream",
          "name": "stdout",
          "text": [
            "Dame tu edad: 16\n",
            "Tecleaste 16 años\n",
            "Fin de programa\n"
          ]
        }
      ]
    },
    {
      "cell_type": "code",
      "metadata": {
        "colab": {
          "base_uri": "https://localhost:8080/"
        },
        "id": "rO3B5xkaWatZ",
        "outputId": "2aa4f85a-744f-41b6-ae04-13cabbd7fcc4"
      },
      "source": [
        "CAL = float(input(\"Ingrese la calificación obtenida: \"))\n",
        "if CAL > 8:\n",
        "  print(\"Aprovado\")\n",
        "print(\"Fin del programa\")"
      ],
      "execution_count": 10,
      "outputs": [
        {
          "output_type": "stream",
          "name": "stdout",
          "text": [
            "Ingrese la calificación obtenida: 7.99\n",
            "Fin del programa\n"
          ]
        }
      ]
    },
    {
      "cell_type": "code",
      "metadata": {
        "colab": {
          "base_uri": "https://localhost:8080/"
        },
        "id": "VT4_JjXMXl4Z",
        "outputId": "caa73a3e-d9d5-45a3-865d-c89a4b5d3b6a"
      },
      "source": [
        "SUE = float(input(\"Ingrese el sueldo: \"))\n",
        "if SUE < 1000:\n",
        "  AUM = SUE * 0.15\n",
        "  MSUE = SUE + AUM\n",
        "  print(MSUE)\n",
        "print(\"Fin del programa\")"
      ],
      "execution_count": 15,
      "outputs": [
        {
          "output_type": "stream",
          "name": "stdout",
          "text": [
            "Ingrese el sueldo: 875.50\n",
            "1006.825\n",
            "Fin del programa\n"
          ]
        }
      ]
    }
  ]
}