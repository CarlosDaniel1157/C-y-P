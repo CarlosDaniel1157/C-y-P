{
  "nbformat": 4,
  "nbformat_minor": 0,
  "metadata": {
    "colab": {
      "name": "Diccionario_pelicula.ipynb",
      "provenance": [],
      "authorship_tag": "ABX9TyPeVWaxZJoYQTgcQdi8Nh+i",
      "include_colab_link": true
    },
    "kernelspec": {
      "name": "python3",
      "display_name": "Python 3"
    },
    "language_info": {
      "name": "python"
    }
  },
  "cells": [
    {
      "cell_type": "markdown",
      "metadata": {
        "id": "view-in-github",
        "colab_type": "text"
      },
      "source": [
        "<a href=\"https://colab.research.google.com/github/CarlosDaniel1157/CyP/blob/main/Diccionario_pelicula.ipynb\" target=\"_parent\"><img src=\"https://colab.research.google.com/assets/colab-badge.svg\" alt=\"Open In Colab\"/></a>"
      ]
    },
    {
      "cell_type": "code",
      "metadata": {
        "colab": {
          "base_uri": "https://localhost:8080/"
        },
        "id": "gPqAx_HaNdxq",
        "outputId": "8db688e7-de5b-4cfe-ee00-992db6df0fd6"
      },
      "source": [
        "cars = {\n",
        "    \"personajes\":{\n",
        "        \"1\":\"Rayo\",\n",
        "        \"2\":\"Mate\",\n",
        "        \"2\":\"Doc. Hotson\",\n",
        "        \"3\":\"Sally\"\n",
        "    },\n",
        "    \"Lugares\":{\n",
        "        \"principal\":\"Radiador Springs\",\n",
        "        \"competición\":\"California\"\n",
        "    },\n",
        "    \"Competicion\":{\n",
        "        \"1\":\"Piston Cup\",\n",
        "        \"2\":\"Volcan Radiador Springs\"\n",
        "    },\n",
        "    \"Competidores:\":{\n",
        "        \"1\":\"Chick\",\n",
        "        \"2\":\"Rey\"\n",
        "    },\n",
        "    \"Personajes secundarios\":{\n",
        "        \"1\":\"Rojo\",\n",
        "        \"2\":\"Mack\"\n",
        "    }\n",
        "}\n",
        "print(cars)"
      ],
      "execution_count": 1,
      "outputs": [
        {
          "output_type": "stream",
          "name": "stdout",
          "text": [
            "{'personajes': {'1': 'Rayo', '2': 'Doc. Hotson', '3': 'Sally'}, 'Lugares': {'principal': 'Radiador Springs', 'competición': 'California'}, 'Competicion': {'1': 'Piston Cup', '2': 'Volcan Radiador Springs'}, 'Competidores:': {'1': 'Chick', '2': 'Rey'}, 'Personajes secundarios': {'1': 'Rojo', '2': 'Mack'}}\n"
          ]
        }
      ]
    }
  ]
}