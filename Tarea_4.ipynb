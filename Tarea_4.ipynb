{
  "nbformat": 4,
  "nbformat_minor": 0,
  "metadata": {
    "colab": {
      "name": "Tarea 4",
      "provenance": [],
      "authorship_tag": "ABX9TyPYVyBx9gIHK1UoaB2S2JBZ",
      "include_colab_link": true
    },
    "kernelspec": {
      "name": "python3",
      "display_name": "Python 3"
    },
    "language_info": {
      "name": "python"
    }
  },
  "cells": [
    {
      "cell_type": "markdown",
      "metadata": {
        "id": "view-in-github",
        "colab_type": "text"
      },
      "source": [
        "<a href=\"https://colab.research.google.com/github/CarlosDaniel1157/CyP/blob/main/Tarea_4.ipynb\" target=\"_parent\"><img src=\"https://colab.research.google.com/assets/colab-badge.svg\" alt=\"Open In Colab\"/></a>"
      ]
    },
    {
      "cell_type": "code",
      "metadata": {
        "colab": {
          "base_uri": "https://localhost:8080/"
        },
        "id": "4_UsCrIzY5om",
        "outputId": "54de3745-4e20-4cd0-ca6e-c054771be34b"
      },
      "source": [
        "print(\"CCCCCCC    AAAAAAAA RRRRRRRRR  LL        OOOOOOOOO SSSSSSSSS\")\n",
        "print(\"CC         AA    AA RR     RR  LL        OO     OO SS\")\n",
        "print(\"CC         AA    AA RRRRRRR    LL        OO     OO SS\")\n",
        "print(\"CC         AAAAAAAA RRR        LL        OO     OO SSSSSSSSS\")\n",
        "print(\"CC         AA    AA RR RR      LL        OO     OO        SS\")\n",
        "print(\"CC         AA    AA RR   RR    LL        OO     OO        SS\")\n",
        "print(\"CCCCCCC    AA    AA RR     RR  LLLLLLLLL OOOOOOOOO SSSSSSSSS\")"
      ],
      "execution_count": 13,
      "outputs": [
        {
          "output_type": "stream",
          "name": "stdout",
          "text": [
            "CCCCCCC    AAAAAAAA RRRRRRRRR  LL        OOOOOOOOO SSSSSSSSS\n",
            "CC         AA    AA RR     RR  LL        OO     OO SS\n",
            "CC         AA    AA RRRRRRR    LL        OO     OO SS\n",
            "CC         AAAAAAAA RRR        LL        OO     OO SSSSSSSSS\n",
            "CC         AA    AA RR RR      LL        OO     OO        SS\n",
            "CC         AA    AA RR   RR    LL        OO     OO        SS\n",
            "CCCCCCC    AA    AA RR     RR  LLLLLLLLL OOOOOOOOO SSSSSSSSS\n"
          ]
        }
      ]
    }
  ]
}