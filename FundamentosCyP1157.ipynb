{
  "nbformat": 4,
  "nbformat_minor": 0,
  "metadata": {
    "colab": {
      "name": "FundamentosCyP1157.ipynb",
      "provenance": [],
      "authorship_tag": "ABX9TyNsPYvLe8ZAfJi6uXecmFGK",
      "include_colab_link": true
    },
    "kernelspec": {
      "name": "python3",
      "display_name": "Python 3"
    },
    "language_info": {
      "name": "python"
    }
  },
  "cells": [
    {
      "cell_type": "markdown",
      "metadata": {
        "id": "view-in-github",
        "colab_type": "text"
      },
      "source": [
        "<a href=\"https://colab.research.google.com/github/CarlosDaniel1157/CyP/blob/main/FundamentosCyP1157.ipynb\" target=\"_parent\"><img src=\"https://colab.research.google.com/assets/colab-badge.svg\" alt=\"Open In Colab\"/></a>"
      ]
    },
    {
      "cell_type": "markdown",
      "metadata": {
        "id": "2EhvdJk4qn6-"
      },
      "source": [
        "12 Octubre 2021"
      ]
    },
    {
      "cell_type": "code",
      "metadata": {
        "id": "XQErbNOTVgTW"
      },
      "source": [
        "nombre = 'Jose'\n",
        "\n",
        "print( nombre )"
      ],
      "execution_count": null,
      "outputs": []
    },
    {
      "cell_type": "markdown",
      "metadata": {
        "id": "o05Iazn2XSbJ"
      },
      "source": [
        "# Tipo de datos en phyton\n",
        "\n",
        "- str --> String cadena de\n",
        " caracteres\n",
        " - int --> Numeros enteros\n",
        " - float --> Numeros de notacion con \n",
        " punto flotante\n",
        " - complex --> Numeros complejos\n",
        " - bool --> Boleano ( True , False )\n",
        " - byte --> 8 bite\n",
        "\n",
        " # Tipos de datos estructurados (compuestos)\n",
        "\n",
        "- list --> Listas\n",
        "- dict --> diccionarios\n",
        "- set y frozenset --> Conjuntos\n",
        "- tuple --> Listas de mutables"
      ]
    },
    {
      "cell_type": "code",
      "metadata": {
        "id": "Sw0wGXjJaqCE"
      },
      "source": [
        "import sys\n",
        "edad = edad+8\n",
        "print(\"Tu edad +1: \", edad)\n",
        "# Este es un comentario simple\n",
        "\n",
        "\"\"\"\n",
        "\n",
        "En luenguaje C, C++c JAVA en comentario\n",
        "de multiple linea es con /*.....*/\n",
        "\n",
        "\"\"\"\n",
        "# Tipo de dato numerico int y float\n",
        "\n",
        "#print(sys.getsizeof (edad))\n",
        "estatura = 1.56\n",
        "print (\"tu estatura es: \" , estatura)\n",
        "#print(sys.getsizeof (estatura))\n",
        "estatura = estatura + 0.1\n",
        "print(\"Tu nueva estatura: \", round(estatura,2))\n",
        "edad -= 1 # edad = edad - 1\n",
        "print (\"Tu edad:\", edad)\n",
        "edad /= 2   # edad = edad / 2\n",
        "print (\"Tu edad / 2: \", edad)\n",
        "edad = edad // 2 # obligar um resultado entero\n",
        "print (\"Tu edad en enteros\", edad)\n",
        "\n",
        "numero = 21\n",
        "numero **=1\n",
        "print(numero)\n",
        "print (numero % 6 == 3)"
      ],
      "execution_count": null,
      "outputs": []
    },
    {
      "cell_type": "markdown",
      "metadata": {
        "id": "AnmcjddQpoxH"
      },
      "source": [
        "# Tipo de dato String (str) en Python\n",
        "- Se maneja como un arreglo ( tipo de dato compuesto )\n",
        "- Se puede acceder a los elementos de el string por medio del\n",
        "indice del caracterer\n",
        "- Mutables\n",
        "- Tienen metodos utiles ( potentes )\n",
        "- slicing"
      ]
    },
    {
      "cell_type": "code",
      "metadata": {
        "id": "q4Nj2iJAqWj7"
      },
      "source": [
        "nombre = 'jose'\n",
        "carrera = \"ingenieria en Coputación\"\n",
        "frase = \"\"\"El conocimiento\n",
        "me preseigue...\n",
        "pero\n",
        "yo soy más rapido\n",
        "\"\"\"\n",
        "print(nombre)\n",
        "print(carrera)\n",
        "print(frase)\n",
        "\n",
        "print(type(nombre))"
      ],
      "execution_count": null,
      "outputs": []
    },
    {
      "cell_type": "markdown",
      "metadata": {
        "id": "5y3HLJd2qCOK"
      },
      "source": [
        "14 Octubre 2021"
      ]
    },
    {
      "cell_type": "markdown",
      "metadata": {
        "id": "DVAhA6lBqTML"
      },
      "source": [
        "Una clase (class) es un tipo de dato compuesto"
      ]
    },
    {
      "cell_type": "code",
      "metadata": {
        "id": "11LXSEGArYsB"
      },
      "source": [
        "carrera = 'Ingeniería en computación'\n",
        "print( carrera )\n",
        "print( carrera[2] )"
      ],
      "execution_count": null,
      "outputs": []
    },
    {
      "cell_type": "markdown",
      "metadata": {
        "id": "G3ZGjDYZryaP"
      },
      "source": [
        "A la sintaxis escrtirta para elegir un elemento \n",
        "de datos se le llama selector\n",
        "En caso de String y listas (lst) se usan los caracteres [ 'y' ]\n",
        "1. En todos los lengujes los arreglos inician en 0 \n",
        "2. En python no existe como tal el tipo de dato arreglo, el concepto\n",
        "es listas\n",
        "3. Los Strings se comportan como un arreglo en la mayoria de los lenguajes\n",
        "4. En python se acepta indexado negativo, en otros lenguajes NO "
      ]
    },
    {
      "cell_type": "code",
      "metadata": {
        "id": "flQcmrP0tArD"
      },
      "source": [
        "carrera = \"Ingeniería en computación\"\n",
        "print (carrera[8])\n",
        "print (carrera[24])\n",
        "print (carrera[-1])\n",
        "print (carrera[-25])\n",
        "\n",
        "\n",
        "#adelantando tema \n",
        "\n",
        "for letra in carrera:\n",
        "print(\"--> \", letra , \"<--\")"
      ],
      "execution_count": null,
      "outputs": []
    },
    {
      "cell_type": "markdown",
      "metadata": {
        "id": "q_9_KA-Lu7ZJ"
      },
      "source": [
        "# Slicing (rebanado) de cadenas\n",
        "Permite seleccionar subcadenas con el operador\n",
        "### [ inicio : stop : incremeto ]\n",
        "- El Stop no se incluye, es por eso que debemos \n",
        "agergar una posición extra\n",
        "- Inicio por defecto siempre sera 0 \n",
        "stop: tamaño del arreglo (indexado positivo)\n",
        "0 (en indexado negativo)\n",
        "\n"
      ]
    },
    {
      "cell_type": "code",
      "metadata": {
        "id": "7bSw5rCQvd6s",
        "outputId": "a9f554da-3d1b-4087-bc71-4b79ee7c24cc",
        "colab": {
          "base_uri": "https://localhost:8080/"
        }
      },
      "source": [
        "carrera = \"Ingeniería en computación\"\n",
        "print (carrera[0:10:1])\n",
        "print (carrera[14:25:1])\n",
        "# Lo mismo, pero con intenxado negativo\n",
        "print (carrera[-11:-1:1])\n",
        "#Solucion previa\n",
        "print (carrera[0:10:])\n",
        "print (carrera[-11::1])\n",
        "#ejercicio\n",
        "print (carrera[0:10:2])\n",
        "print (carrera[-1:-12:-1])"
      ],
      "execution_count": 28,
      "outputs": [
        {
          "output_type": "stream",
          "name": "stdout",
          "text": [
            "Ingeniería\n",
            "computación\n",
            "computació\n",
            "Ingeniería\n",
            "computación\n",
            "Igneí\n",
            "nóicatupmoc\n"
          ]
        }
      ]
    },
    {
      "cell_type": "markdown",
      "metadata": {
        "id": "7Q-DIDn-0nDl"
      },
      "source": [
        "# String y sus metodos\n",
        "Todos los tipos de datos en python son objetos (clases de la POO)\n",
        "## dir() y help() funciona para obtener \n",
        "ayuda del lenguaje python\n",
        "- dir muestra las funciones de u tipo de dato como resumen\n",
        "- help muestra la misma ayuda pero a detalle\n",
        "\n",
        "Metodo que inician con doble guión bajo son privado de uso \n",
        "interno de la clase y no deberiamos usarlos\n",
        "\n"
      ]
    },
    {
      "cell_type": "code",
      "metadata": {
        "id": "5Jl9IQt922Nf",
        "outputId": "55d78684-284d-4a7b-a284-c8e2cce19bea",
        "colab": {
          "base_uri": "https://localhost:8080/"
        }
      },
      "source": [
        "frutas = \" limon , fresa , manzana , aguscate \"\n",
        "nombre = \"jose\"\n",
        "print (frutas)\n",
        "dir(frutas)\n",
        "\n",
        "print(nombre.capitalize())\n",
        "print(nombre.upper())\n",
        "print(frutas.replace('a','4').upper())\n",
        "frutas = frutas.replace('a','4').upper()\n",
        "print(frutas)\n",
        "\n",
        "\n",
        "print(frutas.strip())# quito los especios extra de afuera\n",
        "print (frutas.split())# Separa cada cadena de caracteres\n",
        "print (frutas.split('LIMON')) # Quito el valor dado entre comillas simples\n",
        "print(frutas.find('n'))"
      ],
      "execution_count": 65,
      "outputs": [
        {
          "output_type": "stream",
          "name": "stdout",
          "text": [
            " limon , fresa , manzana , aguscate \n",
            "Jose\n",
            "JOSE\n",
            " LIMON , FRES4 , M4NZ4N4 , 4GUSC4TE \n",
            " LIMON , FRES4 , M4NZ4N4 , 4GUSC4TE \n",
            "LIMON , FRES4 , M4NZ4N4 , 4GUSC4TE\n",
            "['LIMON', ',', 'FRES4', ',', 'M4NZ4N4', ',', '4GUSC4TE']\n",
            "[' ', ' , FRES4 , M4NZ4N4 , 4GUSC4TE ']\n",
            "-1\n"
          ]
        }
      ]
    },
    {
      "cell_type": "markdown",
      "metadata": {
        "id": "Pf5NSVNk8aof"
      },
      "source": [
        "# String y caracteres de escap\n",
        "\n",
        "\"Jose\"\n",
        "- \\\" --> \"\n",
        "- \\' --> '\n",
        "- \\n --> Salto de linea (tecla enter)\n",
        "- \\t --> Tabulador espacios a la izquierda\n",
        "- \\uxxxx --> Caracteres unicode\n",
        "- \\Uxxxxxxxx -->unicode extendido"
      ]
    },
    {
      "cell_type": "code",
      "metadata": {
        "id": "mOKElLIx9E_E",
        "outputId": "9c275bb5-772e-4507-dc21-cd612afbe8fb",
        "colab": {
          "base_uri": "https://localhost:8080/"
        }
      },
      "source": [
        "print(\"\\\"Jose\\\"\")\n",
        "nombre  = \"\\\"Jose\\\"\"\n",
        "print(nombre)\n",
        "carrera  = \"Ingeniería \\nen \\nComputación\"\n",
        "print(carrera)\n",
        "carrera  = \"Ingeniería \\n\\ten \\n\\tComputación\"\n",
        "print(carrera)"
      ],
      "execution_count": 74,
      "outputs": [
        {
          "output_type": "stream",
          "name": "stdout",
          "text": [
            "\"Jose\"\n",
            "\"Jose\"\n",
            "Ingeniería \n",
            "en \n",
            "Computación\n",
            "Ingeniería \n",
            "\ten \n",
            "\tComputación\n"
          ]
        }
      ]
    }
  ]
}