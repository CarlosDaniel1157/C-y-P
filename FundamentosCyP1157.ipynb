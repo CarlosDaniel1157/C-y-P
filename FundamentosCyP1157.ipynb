{
  "nbformat": 4,
  "nbformat_minor": 0,
  "metadata": {
    "colab": {
      "name": "FundamentosCyP1157.ipynb",
      "provenance": []
    },
    "kernelspec": {
      "name": "python3",
      "display_name": "Python 3"
    },
    "language_info": {
      "name": "python"
    }
  },
  "cells": [
    {
      "cell_type": "code",
      "metadata": {
        "id": "XQErbNOTVgTW"
      },
      "source": [
        "nombre = 'Jose'\n",
        "\n",
        "print( nombre )"
      ],
      "execution_count": null,
      "outputs": []
    },
    {
      "cell_type": "markdown",
      "metadata": {
        "id": "o05Iazn2XSbJ"
      },
      "source": [
        "# Tipo de datos en phyton\n",
        "\n",
        "- str --> String cadena de\n",
        " caracteres\n",
        " - int --> Numeros enteros\n",
        " - float --> Numeros de notacion con \n",
        " punto flotante\n",
        " - complex --> Numeros complejos\n",
        " - bool --> Boleano ( True , False )\n",
        " - byte --> 8 bite\n",
        "\n",
        " # Tipos de datos estructurados (compuestos)\n",
        "\n",
        "- list --> Listas\n",
        "- dict --> diccionarios\n",
        "- set y frozenset --> Conjuntos\n",
        "- tuple --> Listas de mutables"
      ]
    },
    {
      "cell_type": "code",
      "metadata": {
        "id": "Sw0wGXjJaqCE"
      },
      "source": [
        "import sys\n",
        "edad = edad+8\n",
        "print(\"Tu edad +1: \", edad)\n",
        "# Este es un comentario simple\n",
        "\n",
        "\"\"\"\n",
        "\n",
        "En luenguaje C, C++c JAVA en comentario\n",
        "de multiple linea es con /*.....*/\n",
        "\n",
        "\"\"\"\n",
        "# Tipo de dato numerico int y float\n",
        "\n",
        "#print(sys.getsizeof (edad))\n",
        "estatura = 1.56\n",
        "print (\"tu estatura es: \" , estatura)\n",
        "#print(sys.getsizeof (estatura))\n",
        "estatura = estatura + 0.1\n",
        "print(\"Tu nueva estatura: \", round(estatura,2))\n",
        "edad -= 1 # edad = edad - 1\n",
        "print (\"Tu edad:\", edad)\n",
        "edad /= 2   # edad = edad / 2\n",
        "print (\"Tu edad / 2: \", edad)\n",
        "edad = edad // 2 # obligar um resultado entero\n",
        "print (\"Tu edad en enteros\", edad)\n",
        "\n",
        "numero = 21\n",
        "numero **=1\n",
        "print(numero)\n",
        "print (numero % 6 == 3)"
      ],
      "execution_count": null,
      "outputs": []
    },
    {
      "cell_type": "markdown",
      "metadata": {
        "id": "AnmcjddQpoxH"
      },
      "source": [
        "# Tipo de dato String (str) en Python\n",
        "- Se maneja como un arreglo ( tipo de dato compuesto )\n",
        "- Se puede acceder a los elementos de el string por medio del\n",
        "indice del caracterer\n",
        "- Mutables\n",
        "- Tienen metodos utiles ( potentes )\n",
        "- slicing"
      ]
    },
    {
      "cell_type": "code",
      "metadata": {
        "colab": {
          "base_uri": "https://localhost:8080/"
        },
        "id": "q4Nj2iJAqWj7",
        "outputId": "1aa6b00d-0e48-4821-cbf4-6d307149679f"
      },
      "source": [
        "nombre = 'jose'\n",
        "carrera = \"ingenieria en Coputación\"\n",
        "frase = \"\"\"El conocimiento\n",
        "me preseigue...\n",
        "pero\n",
        "yo soy más rapido\n",
        "\"\"\"\n",
        "print(nombre)\n",
        "print(carrera)\n",
        "print(frase)\n",
        "\n",
        "print(type(nombre))"
      ],
      "execution_count": 38,
      "outputs": [
        {
          "output_type": "stream",
          "name": "stdout",
          "text": [
            "jose\n",
            "ingenieria en Coputación\n",
            "El conocimiento\n",
            "me preseigue...\n",
            "pero\n",
            "yo soy más rapido\n",
            "\n",
            "<class 'str'>\n"
          ]
        }
      ]
    }
  ]
}