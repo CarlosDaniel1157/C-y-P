{
  "nbformat": 4,
  "nbformat_minor": 0,
  "metadata": {
    "colab": {
      "name": "Tarea 6.ipynb",
      "provenance": [],
      "authorship_tag": "ABX9TyPSgDttTRsawaMLfwJY/H4C",
      "include_colab_link": true
    },
    "kernelspec": {
      "name": "python3",
      "display_name": "Python 3"
    },
    "language_info": {
      "name": "python"
    }
  },
  "cells": [
    {
      "cell_type": "markdown",
      "metadata": {
        "id": "view-in-github",
        "colab_type": "text"
      },
      "source": [
        "<a href=\"https://colab.research.google.com/github/CarlosDaniel1157/CyP/blob/main/Tarea_6.ipynb\" target=\"_parent\"><img src=\"https://colab.research.google.com/assets/colab-badge.svg\" alt=\"Open In Colab\"/></a>"
      ]
    },
    {
      "cell_type": "code",
      "metadata": {
        "colab": {
          "base_uri": "https://localhost:8080/"
        },
        "id": "dkqS3yzQTrub",
        "outputId": "b00e0fb2-aca1-4323-e68a-c95ef57f3db3"
      },
      "source": [
        "# Problema 2.1\n",
        "N = int(input(\"Ingrese el número de sonidos emitidos por minuto: \"))\n",
        "if N>0:\n",
        "    T = N/4 + 40\n",
        "    print(\"La temperatura del grillo es: \",T)\n",
        "else:\n",
        "    print(\"El dato ingresado no es valido\")\n",
        "print(\"--FIN DEL PROGRAMA--\")"
      ],
      "execution_count": 2,
      "outputs": [
        {
          "output_type": "stream",
          "name": "stdout",
          "text": [
            "Ingrese el número de sonidos emitidos por minuto: 50\n",
            "La temperatura del grillo es:  52.5\n",
            "--FIN DEL PROGRAMA--\n"
          ]
        }
      ]
    },
    {
      "cell_type": "code",
      "metadata": {
        "colab": {
          "base_uri": "https://localhost:8080/"
        },
        "id": "-aLxL6mtZgy8",
        "outputId": "3181c03e-232f-497c-e6d6-09b90d8fe403"
      },
      "source": [
        "# Problema 2.2 \n",
        "P = int(input(\"Ingrese el valor de P: \"))\n",
        "Q = int(input(\"Ingrese el valor de Q: \"))\n",
        "EXP = P**3 + Q**4-2*P**2\n",
        "if EXP < 680:\n",
        "    print(f\"Los valores de P y Q son P={P}, Q={Q}\")\n",
        "else:\n",
        "    print(\"El resultado es >= a 680\")\n",
        "print(\"--FIN DEL PROGRAMA--\")"
      ],
      "execution_count": 5,
      "outputs": [
        {
          "output_type": "stream",
          "name": "stdout",
          "text": [
            "Ingrese el valor de P: 2\n",
            "Ingrese el valor de Q: 4\n",
            "Los valores de P y Q son P=2, Q=4\n",
            "--FIN DEL PROGRAMA--\n"
          ]
        }
      ]
    },
    {
      "cell_type": "code",
      "metadata": {
        "colab": {
          "base_uri": "https://localhost:8080/"
        },
        "id": "2W_uPZvhcmgd",
        "outputId": "6d0e323e-61b3-481e-858b-d4242b283e0d"
      },
      "source": [
        "# Problema 2.3\n",
        "A = float(input(\"Ingrese el valor del término cuadrático: \"))\n",
        "B = float(input(\"Ingrese el valor del término lineal: \"))\n",
        "C = float(input(\"Ingrese el valor del término independiente: \"))\n",
        "DIS = (B*B)-(4*A*C)\n",
        "if DIS >= 0:\n",
        "    x1 = (-B+(DIS**0.5))/(2*A)\n",
        "    x2 = (-B-(DIS**0.5))/(2*A)\n",
        "    print(\"x1 =\",x1)\n",
        "    print(\"x2 =\",x2)\n",
        "else:\n",
        "    print(\"El discriminante se encuentra en los números imaginarios\")\n",
        "print(\"--FIN DEL PROGRAMA--\")"
      ],
      "execution_count": 36,
      "outputs": [
        {
          "output_type": "stream",
          "name": "stdout",
          "text": [
            "Ingrese el valor del término cuadrático: 3\n",
            "Ingrese el valor del término lineal: 9\n",
            "Ingrese el valor del término independiente: 1.5\n",
            "x1 = -0.17712434446770464\n",
            "x2 = -2.8228756555322954\n",
            "--FIN DEL PROGRAMA--\n"
          ]
        }
      ]
    },
    {
      "cell_type": "code",
      "metadata": {
        "colab": {
          "base_uri": "https://localhost:8080/"
        },
        "id": "Efoq3_5mo59O",
        "outputId": "0ac5bf53-f43e-452c-d32f-8661ce1d397a"
      },
      "source": [
        "# Problema 2.4\n",
        "MAT = int(input(\"Ingrese su matricula: \"))\n",
        "CAL1 = float(input(\"Ingrese su calificación 1: \"))\n",
        "CAL2 = float(input(\"Ingrese su calificación 2: \"))\n",
        "CAL3 = float(input(\"Ingrese su calificación 3: \"))\n",
        "CAL4 = float(input(\"Ingrese su calificación 4: \"))\n",
        "CAL5 = float(input(\"Ingrese su calificación 5: \"))\n",
        "PRO = (CAL1+CAL2+CAL3+CAL4+CAL5)/5\n",
        "if PRO >= 6:\n",
        "    print(f\"N°:{MAT} tiene {PRO} por lo tanto APROVADO\")\n",
        "else:\n",
        "    print(f\"N°:{MAT} tiene {PRO} por lo tanto NO APROVADO\")\n",
        "print(\"--FIN DEL PROGRAMA--\")"
      ],
      "execution_count": 40,
      "outputs": [
        {
          "output_type": "stream",
          "name": "stdout",
          "text": [
            "Ingrese su matricula: 16500\n",
            "Ingrese su calificación 1: 6\n",
            "Ingrese su calificación 2: 7.50\n",
            "Ingrese su calificación 3: 8\n",
            "Ingrese su calificación 4: 9.50\n",
            "Ingrese su calificación 5: 7\n",
            "N°:16500 tiene 7.6 por lo tanto APROVADO\n",
            "--FIN DEL PROGRAMA--\n"
          ]
        }
      ]
    },
    {
      "cell_type": "code",
      "metadata": {
        "colab": {
          "base_uri": "https://localhost:8080/"
        },
        "id": "rE7F68GLM2CL",
        "outputId": "4c1a99db-7b3e-4da4-f179-d5a0097b7dc5"
      },
      "source": [
        "# Problema 2.5\n",
        "NUM = int(input(\"Ingrese un número entero: \"))\n",
        "if NUM > 0:\n",
        "    print(\"POSITIVO\")\n",
        "elif NUM == 0:\n",
        "    print(\"NULO\")\n",
        "else:\n",
        "    print(\"NEGATIVO\")\n",
        "print(\"--FIN DEL PROGRAMA--\")"
      ],
      "execution_count": 45,
      "outputs": [
        {
          "output_type": "stream",
          "name": "stdout",
          "text": [
            "Ingrese un número entero: 5\n",
            "POSITIVO\n",
            "--FIN DEL PROGRAMA--\n"
          ]
        }
      ]
    },
    {
      "cell_type": "code",
      "metadata": {
        "colab": {
          "base_uri": "https://localhost:8080/"
        },
        "id": "1WWODGsFOTNz",
        "outputId": "113e208e-2c1e-4e46-f753-14a725680ca1"
      },
      "source": [
        "# Problema 2.6\n",
        "A = int(input(\"Ingrese un número entero: \"))\n",
        "if A == 0:\n",
        "    print(\"NULO\")\n",
        "elif (-1)**A > 0:\n",
        "    print(\"PAR\")\n",
        "else:\n",
        "    print(\"IMPAR\")\n",
        "print(\"--FIN DEL PROGRAMA--\")"
      ],
      "execution_count": 53,
      "outputs": [
        {
          "output_type": "stream",
          "name": "stdout",
          "text": [
            "Ingrese un número entero: 5\n",
            "IMPAR\n",
            "--FIN DEL PROGRAMA--\n"
          ]
        }
      ]
    },
    {
      "cell_type": "code",
      "metadata": {
        "colab": {
          "base_uri": "https://localhost:8080/"
        },
        "id": "r2WTZ021QQZD",
        "outputId": "8ef66433-b522-4953-ce84-0da14d59bfec"
      },
      "source": [
        "# Problema 2.7\n",
        "A = int(input(\"Ingrese un número entero: \"))\n",
        "B = int(input(\"Ingrese un número entero: \"))\n",
        "C = int(input(\"Ingrese un número entero: \"))\n",
        "if A < B:\n",
        "    if B < C:\n",
        "        print(\"Los números están en orden creciente\")\n",
        "    else:\n",
        "        print(\"Los números no están en orden creciente\")\n",
        "else:\n",
        "    print(\"Los números no están en orden creciente\")\n",
        "print(\"--FIN DEL PROGRAMA--\")"
      ],
      "execution_count": 55,
      "outputs": [
        {
          "output_type": "stream",
          "name": "stdout",
          "text": [
            "Ingrese un número entero: 2\n",
            "Ingrese un número entero: 3\n",
            "Ingrese un número entero: 4\n",
            "Los números están en orden creciente\n",
            "--FIN DEL PROGRAMA--\n"
          ]
        }
      ]
    },
    {
      "cell_type": "code",
      "metadata": {
        "colab": {
          "base_uri": "https://localhost:8080/"
        },
        "id": "J2Fsfx4UR4W3",
        "outputId": "7e3c5563-43da-41b6-846f-d69ddb216b67"
      },
      "source": [
        "# Problema 2.8\n",
        "NUM = int(input(\"Ingrese el monto de la compra : \"))\n",
        "if NUM <= 0:\n",
        "    print(\"Dato invalido\")\n",
        "if NUM < 500:\n",
        "    print(\"Pago =\",NUM)\n",
        "elif NUM >= 500 and NUM < 1000:\n",
        "    print(\"Pago =\",NUM*0.95)\n",
        "elif NUM >= 1000 and NUM < 7000:\n",
        "    print(\"Pago =\",NUM*0.89)\n",
        "elif NUM >= 7000 and NUM < 15000:\n",
        "    print(\"Pago =\",NUM*0.82)\n",
        "elif NUM >= 15000:\n",
        "    print(\"Pago =\",NUM*0.75)"
      ],
      "execution_count": 62,
      "outputs": [
        {
          "output_type": "stream",
          "name": "stdout",
          "text": [
            "Ingrese el monto de la compra : 6850\n",
            "Pago = 6096.5\n"
          ]
        }
      ]
    },
    {
      "cell_type": "code",
      "metadata": {
        "colab": {
          "base_uri": "https://localhost:8080/"
        },
        "id": "5oSgyoUDiISB",
        "outputId": "3753684e-2fbb-4163-c8b0-b3b46ac4068e"
      },
      "source": [
        "# Problema 2.9\n",
        "PREBAS = float(input(\"Ingrese el monto de la compra : \"))\n",
        "if PREBAS > 500:\n",
        "    print(\"Precio Total =\",PREBAS*1.5)\n",
        "elif PREBAS > 40 and PREBAS < 500:\n",
        "    print(\"Precio Total =\",PREBAS*1.3)\n",
        "elif PREBAS > 20 and PREBAS < 40:\n",
        "    print(\"Precio Total =\",PREBAS*1.3)\n",
        "elif PREBAS > 0 and PREBAS < 20:\n",
        "    print(\"Precio Total =\",PREBAS)\n",
        "else:\n",
        "    print(\"Dato invalido\")\n",
        "print(\"--FIN DEL PROGRAMA--\")"
      ],
      "execution_count": 81,
      "outputs": [
        {
          "output_type": "stream",
          "name": "stdout",
          "text": [
            "Ingrese el monto de la compra : 17.33\n",
            "Precio Total = 17.33\n",
            "--FIN DEL PROGRAMA--\n"
          ]
        }
      ]
    },
    {
      "cell_type": "code",
      "metadata": {
        "colab": {
          "base_uri": "https://localhost:8080/"
        },
        "id": "0VVjc8WL9sam",
        "outputId": "d02347f7-2c9c-415e-cf4f-37cfd430e88f"
      },
      "source": [
        "# Problema 2.10\n",
        "A = int(input(\"Ingrese un número entero: \"))\n",
        "B = int(input(\"Ingrese un número entero: \"))\n",
        "C = int(input(\"Ingrese un número entero: \"))\n",
        "if A > B:\n",
        "    if A > C:\n",
        "        print(A,\"es el mayor\")\n",
        "    elif A == C:\n",
        "        print(A,\",\",C,\"Son los mayores\")\n",
        "    else:\n",
        "        print(C,\"Es el mayor\")\n",
        "elif A == B:\n",
        "    if A > C:\n",
        "        print(A,\",\",B,\"son mayores\")\n",
        "    elif A == C:\n",
        "        print(A,\",\",B,\",\",C,\"son iguales\")\n",
        "    else:\n",
        "        print(C,\"es el mayor\")\n",
        "elif B > C:\n",
        "    print(B,\"es el mayor\")\n",
        "elif B == C:\n",
        "    print(B,\",\",C,\"son los mayores\")\n",
        "else:\n",
        "    print(C,\"es el mayor\")\n",
        "print(\"--FIN DEL PROGRAMA--\")"
      ],
      "execution_count": 88,
      "outputs": [
        {
          "output_type": "stream",
          "name": "stdout",
          "text": [
            "Ingrese un número entero: 6\n",
            "Ingrese un número entero: 8\n",
            "Ingrese un número entero: 9\n",
            "9 es el mayor\n",
            "--FIN DEL PROGRAMA--\n"
          ]
        }
      ]
    },
    {
      "cell_type": "code",
      "metadata": {
        "colab": {
          "base_uri": "https://localhost:8080/"
        },
        "id": "UPZv_0grDiXc",
        "outputId": "48d08fdc-20f0-43c1-84e1-27368333dd73"
      },
      "source": [
        "# Problema 2.11\n",
        "CLAVE = int(input(\"Ingrese la clave por zona: \"))\n",
        "NUMIN = int(input(\"Ingrese los minutos de duración: \"))\n",
        "if CLAVE == 12:\n",
        "    COST = NUMIN*2\n",
        "    print(\"El costo de la llamada es:\",COST)\n",
        "elif CLAVE == 15:\n",
        "    COST = NUMIN*2.2\n",
        "    print(\"El costo de la llamada es:\",COST)\n",
        "elif CLAVE == 18:\n",
        "    COST = NUMIN*4.5\n",
        "    print(\"El costo de la llamada es:\",COST)\n",
        "elif CLAVE == 19:\n",
        "    COST = NUMIN*3.5\n",
        "    print(\"El costo de la llamada es:\",COST)\n",
        "elif CLAVE == 23:\n",
        "    COST = NUMIN*6\n",
        "    print(\"El costo de la llamada es:\",COST)\n",
        "elif CLAVE == 25:\n",
        "    COST = NUMIN*6\n",
        "    print(\"El costo de la llamada es:\",COST)\n",
        "elif CLAVE == 29:\n",
        "    COST = NUMIN*5\n",
        "    print(\"El costo de la llamada es:\",COST)\n",
        "else:\n",
        "    print(\"La clave dada es incorrecta\")\n",
        "print(\"--FIN DEL PROGRAMA--\")"
      ],
      "execution_count": 91,
      "outputs": [
        {
          "output_type": "stream",
          "name": "stdout",
          "text": [
            "Ingrese la clave por zona: 25\n",
            "Ingrese los minutos de duración: 5\n",
            "El costo de la llamada es: 30\n",
            "--FIN DEL PROGRAMA--\n"
          ]
        }
      ]
    },
    {
      "cell_type": "code",
      "metadata": {
        "colab": {
          "base_uri": "https://localhost:8080/"
        },
        "id": "zqja_p7gFpiM",
        "outputId": "1335a1d6-d092-4768-d214-c4ca4104498a"
      },
      "source": [
        "# Problema 2.12\n",
        "SUE = int(input(\"Ingrese el sueldo del trabajador: \"))\n",
        "CATE = int(input(\"Ingrese la categoria: \"))\n",
        "HE = int(input(\"Ingrese las horas extras: \"))\n",
        "if CATE == 1:\n",
        "    PHE = 30\n",
        "elif CATE == 2:\n",
        "    PHE = 38\n",
        "elif CATE == 3:\n",
        "    PHE = 50\n",
        "elif CATE == 4:\n",
        "    PHE = 70\n",
        "else:\n",
        "    PHE = 0\n",
        "if HE > 30:\n",
        "    NSUE = SUE + 30*PHE\n",
        "else:\n",
        "    NSUE = SUE + HE*PHE\n",
        "print(\"El sueldo con horas extras =\",NSUE)\n",
        "print(\"--FIN DEL PROGRAMA--\")"
      ],
      "execution_count": 93,
      "outputs": [
        {
          "output_type": "stream",
          "name": "stdout",
          "text": [
            "Ingrese el sueldo del trabajador: 1350\n",
            "Ingrese la categoria: 1\n",
            "Ingrese las horas extras: 25\n",
            "El sueldo con horas extras = 2100\n",
            "--FIN DEL PROGRAMA--\n"
          ]
        }
      ]
    },
    {
      "cell_type": "code",
      "metadata": {
        "colab": {
          "base_uri": "https://localhost:8080/"
        },
        "id": "RhH5W1U2Kjr2",
        "outputId": "c12f3518-0840-43e4-f799-156ce5117e1f"
      },
      "source": [
        "# Problema 2.13\n",
        "print(\"1. Computación\")\n",
        "print(\"2. Economía\")\n",
        "print(\"3. Contabilidad\")\n",
        "MAT = int(input(\"Ingrese su matricula: \"))\n",
        "CARR = int(input(\"Ingrese el número de la carrera deseada: \"))\n",
        "SEM = int(input(\"Ingrese el semestre: \"))\n",
        "PROM = float(input(\"Ingrese su promedio: \"))\n",
        "print(\"------\")\n",
        "if CARR == 1:\n",
        "    if SEM > 6 and PROM > 8.5:\n",
        "        print(\"Matricula:\",MAT)\n",
        "        print(\"COMPUTACIÓN\")\n",
        "        print(\"ACEPTADO\")\n",
        "elif CARR == 2:\n",
        "    if SEM > 6 and PROM > 8.8:\n",
        "        print(\"Matricula:\",MAT)\n",
        "        print(\"ECONOMÍA\")\n",
        "        print(\"ACEPTADO\")\n",
        "elif CARR == 3:\n",
        "    if SEM > 5 and PROM > 8.5:\n",
        "        print(\"Matricula:\",MAT)\n",
        "        print(\"CONTABILIDAD\")\n",
        "        print(\"ACEPTADO\")\n",
        "else:\n",
        "    print(\"NO A SIDO ACEPTADO\")\n",
        "print(\"--FIN DEL PROGRAMA--\")"
      ],
      "execution_count": 98,
      "outputs": [
        {
          "output_type": "stream",
          "name": "stdout",
          "text": [
            "1. Computación\n",
            "2. Economía\n",
            "3. Contabilidad\n",
            "Ingrese su matricula: 25900\n",
            "Ingrese el número de la carrera deseada: 1\n",
            "Ingrese el semestre: 8\n",
            "Ingrese su promedio: 8.7\n",
            "------\n",
            "Matricula: 25900\n",
            "COMPUTACIÓN\n",
            "ACEPTADO\n",
            "--FIN DEL PROGRAMA--\n"
          ]
        }
      ]
    },
    {
      "cell_type": "code",
      "metadata": {
        "colab": {
          "base_uri": "https://localhost:8080/"
        },
        "id": "lqycTLPtO0AR",
        "outputId": "16585c40-c370-4bee-ce1a-976731e01ef2"
      },
      "source": [
        "# Problema 2.14\n",
        "TIPOENF = int(input(\"Tipo de enfermedad: \"))\n",
        "EDAD = int(input(\"Ingrese su edad: \"))\n",
        "DIAS = int(input(\"Ingrese los diías: \"))\n",
        "if TIPOENF == 1:\n",
        "    COSTOT = DIAS*25\n",
        "elif TIPOENF == 2:\n",
        "    COSTOT = DIAS*16\n",
        "elif TIPOENF == 3:\n",
        "    COSTOT = DIAS*20\n",
        "elif TIPOENF == 4:\n",
        "    COSTOT = DIAS*32\n",
        "else:\n",
        "    print(\"El tipo es invalido\")\n",
        "if EDAD >= 14 and EDAD <= 22:\n",
        "    COSTOT = COSTOT*1.10\n",
        "print(\"Costo total: \",COSTOT)\n",
        "print(\"--FIN DEL PROGRAMA--\")"
      ],
      "execution_count": 100,
      "outputs": [
        {
          "output_type": "stream",
          "name": "stdout",
          "text": [
            "Tipo de enfermedad: 3\n",
            "Ingrese su edad: 35\n",
            "Ingrese los diías: 4\n",
            "Costo total:  80\n",
            "--FIN DEL PROGRAMA--\n"
          ]
        }
      ]
    }
  ]
}